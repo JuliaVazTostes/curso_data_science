{
  "nbformat": 4,
  "nbformat_minor": 0,
  "metadata": {
    "colab": {
      "name": "Módulo 2 - Visualização de Dados com Pandas.ipynb",
      "provenance": [],
      "authorship_tag": "ABX9TyPiw/WJlfuq5E4LVCRNlxm4",
      "include_colab_link": true
    },
    "kernelspec": {
      "name": "python3",
      "display_name": "Python 3"
    }
  },
  "cells": [
    {
      "cell_type": "markdown",
      "metadata": {
        "id": "view-in-github",
        "colab_type": "text"
      },
      "source": [
        "<a href=\"https://colab.research.google.com/github/JuliaVazTostes/curso_data_science/blob/master/M%C3%B3dulo_2_Visualiza%C3%A7%C3%A3o_de_Dados_com_Pandas.ipynb\" target=\"_parent\"><img src=\"https://colab.research.google.com/assets/colab-badge.svg\" alt=\"Open In Colab\"/></a>"
      ]
    },
    {
      "cell_type": "markdown",
      "metadata": {
        "id": "vvplGyW2N3rX",
        "colab_type": "text"
      },
      "source": [
        "# Visualização de Dados com Pandas\n",
        "\n",
        "Visualização de dados é algo muito importante para um projeto de *Data Science*.\n",
        "\n",
        "Apesar de termos o Módulo 3 totalmente dedicado a essa finalidade, queria dar uma breve introdução de como o próprio Pandas é capaz de plotar gráficos a partir de um *DataFrame*.\n",
        "\n",
        "Como exemplo, vamos importar mais uma vez os dados da ação BBAS3 do `csv`. No entanto, desta vez vamos fazer uma coisa diferente.\n",
        "\n",
        "Como cada linha representa um dia de pregão da Bolsa de Valores, faz sentido que nosso índice (*index*) seja a coluna `Date`. Também quero que o Pandas leia essa coluna como sendo uma data, convertendo `strings` do tipo `2018-09-21` em variáveis do tipo `datetime`."
      ]
    },
    {
      "cell_type": "code",
      "metadata": {
        "id": "z2RlG83ekNgO",
        "colab_type": "code",
        "outputId": "98a9f7e3-e107-4bf2-aa08-14d86dfea246",
        "colab": {
          "base_uri": "https://localhost:8080/",
          "height": 204
        }
      },
      "source": [
        "# importar pandas\n",
        "import pandas as pd\n",
        "\n",
        "# importar o arquivo csv para o Pandas\n",
        "# parse_dates=True -> Transforma uma String (mesmo que pareça uma data é uma string - Formato de data é datetime) em data.\n",
        "\n",
        "df = pd.read_csv(\"https://raw.githubusercontent.com/carlosfab/curso_data_science_na_pratica/master/modulo_02/BBAS3.SA.csv\")\n",
        "                \n",
        "# ver as primeiras entradas\n",
        "df.head()"
      ],
      "execution_count": 2,
      "outputs": [
        {
          "output_type": "execute_result",
          "data": {
            "text/html": [
              "<div>\n",
              "<style scoped>\n",
              "    .dataframe tbody tr th:only-of-type {\n",
              "        vertical-align: middle;\n",
              "    }\n",
              "\n",
              "    .dataframe tbody tr th {\n",
              "        vertical-align: top;\n",
              "    }\n",
              "\n",
              "    .dataframe thead th {\n",
              "        text-align: right;\n",
              "    }\n",
              "</style>\n",
              "<table border=\"1\" class=\"dataframe\">\n",
              "  <thead>\n",
              "    <tr style=\"text-align: right;\">\n",
              "      <th></th>\n",
              "      <th>Date</th>\n",
              "      <th>Open</th>\n",
              "      <th>High</th>\n",
              "      <th>Low</th>\n",
              "      <th>Close</th>\n",
              "      <th>Adj Close</th>\n",
              "      <th>Volume</th>\n",
              "    </tr>\n",
              "  </thead>\n",
              "  <tbody>\n",
              "    <tr>\n",
              "      <th>0</th>\n",
              "      <td>2018-09-21</td>\n",
              "      <td>29.730000</td>\n",
              "      <td>30.580000</td>\n",
              "      <td>29.340000</td>\n",
              "      <td>30.580000</td>\n",
              "      <td>28.680056</td>\n",
              "      <td>16301600</td>\n",
              "    </tr>\n",
              "    <tr>\n",
              "      <th>1</th>\n",
              "      <td>2018-09-24</td>\n",
              "      <td>30.379999</td>\n",
              "      <td>30.700001</td>\n",
              "      <td>29.500000</td>\n",
              "      <td>29.730000</td>\n",
              "      <td>27.882866</td>\n",
              "      <td>13086900</td>\n",
              "    </tr>\n",
              "    <tr>\n",
              "      <th>2</th>\n",
              "      <td>2018-09-25</td>\n",
              "      <td>29.030001</td>\n",
              "      <td>29.760000</td>\n",
              "      <td>28.809999</td>\n",
              "      <td>29.549999</td>\n",
              "      <td>27.714045</td>\n",
              "      <td>11742900</td>\n",
              "    </tr>\n",
              "    <tr>\n",
              "      <th>3</th>\n",
              "      <td>2018-09-26</td>\n",
              "      <td>29.650000</td>\n",
              "      <td>29.969999</td>\n",
              "      <td>29.209999</td>\n",
              "      <td>29.450001</td>\n",
              "      <td>27.620264</td>\n",
              "      <td>12842400</td>\n",
              "    </tr>\n",
              "    <tr>\n",
              "      <th>4</th>\n",
              "      <td>2018-09-27</td>\n",
              "      <td>29.680000</td>\n",
              "      <td>30.299999</td>\n",
              "      <td>29.680000</td>\n",
              "      <td>30.290001</td>\n",
              "      <td>28.408072</td>\n",
              "      <td>8767900</td>\n",
              "    </tr>\n",
              "  </tbody>\n",
              "</table>\n",
              "</div>"
            ],
            "text/plain": [
              "         Date       Open       High        Low      Close  Adj Close    Volume\n",
              "0  2018-09-21  29.730000  30.580000  29.340000  30.580000  28.680056  16301600\n",
              "1  2018-09-24  30.379999  30.700001  29.500000  29.730000  27.882866  13086900\n",
              "2  2018-09-25  29.030001  29.760000  28.809999  29.549999  27.714045  11742900\n",
              "3  2018-09-26  29.650000  29.969999  29.209999  29.450001  27.620264  12842400\n",
              "4  2018-09-27  29.680000  30.299999  29.680000  30.290001  28.408072   8767900"
            ]
          },
          "metadata": {
            "tags": []
          },
          "execution_count": 2
        }
      ]
    },
    {
      "cell_type": "code",
      "metadata": {
        "id": "rFQGAE95DPqJ",
        "colab_type": "code",
        "colab": {
          "base_uri": "https://localhost:8080/",
          "height": 235
        },
        "outputId": "36928a40-e43d-4a9a-d80a-bf5d6ad5cb8a"
      },
      "source": [
        "# Transformar tipo da variável 'Date' e a colocar como índice\n",
        "# parse_dates=True -> Transforma uma String (mesmo que pareça uma data é uma string - Formato de data é datetime) em data.\n",
        "\n",
        "df = pd.read_csv(\"https://raw.githubusercontent.com/carlosfab/curso_data_science_na_pratica/master/modulo_02/BBAS3.SA.csv\",\n",
        "                parse_dates=True, index_col='Date')\n",
        "\n",
        "# ver as primeiras entradas\n",
        "df.head()\n"
      ],
      "execution_count": 3,
      "outputs": [
        {
          "output_type": "execute_result",
          "data": {
            "text/html": [
              "<div>\n",
              "<style scoped>\n",
              "    .dataframe tbody tr th:only-of-type {\n",
              "        vertical-align: middle;\n",
              "    }\n",
              "\n",
              "    .dataframe tbody tr th {\n",
              "        vertical-align: top;\n",
              "    }\n",
              "\n",
              "    .dataframe thead th {\n",
              "        text-align: right;\n",
              "    }\n",
              "</style>\n",
              "<table border=\"1\" class=\"dataframe\">\n",
              "  <thead>\n",
              "    <tr style=\"text-align: right;\">\n",
              "      <th></th>\n",
              "      <th>Open</th>\n",
              "      <th>High</th>\n",
              "      <th>Low</th>\n",
              "      <th>Close</th>\n",
              "      <th>Adj Close</th>\n",
              "      <th>Volume</th>\n",
              "    </tr>\n",
              "    <tr>\n",
              "      <th>Date</th>\n",
              "      <th></th>\n",
              "      <th></th>\n",
              "      <th></th>\n",
              "      <th></th>\n",
              "      <th></th>\n",
              "      <th></th>\n",
              "    </tr>\n",
              "  </thead>\n",
              "  <tbody>\n",
              "    <tr>\n",
              "      <th>2018-09-21</th>\n",
              "      <td>29.730000</td>\n",
              "      <td>30.580000</td>\n",
              "      <td>29.340000</td>\n",
              "      <td>30.580000</td>\n",
              "      <td>28.680056</td>\n",
              "      <td>16301600</td>\n",
              "    </tr>\n",
              "    <tr>\n",
              "      <th>2018-09-24</th>\n",
              "      <td>30.379999</td>\n",
              "      <td>30.700001</td>\n",
              "      <td>29.500000</td>\n",
              "      <td>29.730000</td>\n",
              "      <td>27.882866</td>\n",
              "      <td>13086900</td>\n",
              "    </tr>\n",
              "    <tr>\n",
              "      <th>2018-09-25</th>\n",
              "      <td>29.030001</td>\n",
              "      <td>29.760000</td>\n",
              "      <td>28.809999</td>\n",
              "      <td>29.549999</td>\n",
              "      <td>27.714045</td>\n",
              "      <td>11742900</td>\n",
              "    </tr>\n",
              "    <tr>\n",
              "      <th>2018-09-26</th>\n",
              "      <td>29.650000</td>\n",
              "      <td>29.969999</td>\n",
              "      <td>29.209999</td>\n",
              "      <td>29.450001</td>\n",
              "      <td>27.620264</td>\n",
              "      <td>12842400</td>\n",
              "    </tr>\n",
              "    <tr>\n",
              "      <th>2018-09-27</th>\n",
              "      <td>29.680000</td>\n",
              "      <td>30.299999</td>\n",
              "      <td>29.680000</td>\n",
              "      <td>30.290001</td>\n",
              "      <td>28.408072</td>\n",
              "      <td>8767900</td>\n",
              "    </tr>\n",
              "  </tbody>\n",
              "</table>\n",
              "</div>"
            ],
            "text/plain": [
              "                 Open       High        Low      Close  Adj Close    Volume\n",
              "Date                                                                       \n",
              "2018-09-21  29.730000  30.580000  29.340000  30.580000  28.680056  16301600\n",
              "2018-09-24  30.379999  30.700001  29.500000  29.730000  27.882866  13086900\n",
              "2018-09-25  29.030001  29.760000  28.809999  29.549999  27.714045  11742900\n",
              "2018-09-26  29.650000  29.969999  29.209999  29.450001  27.620264  12842400\n",
              "2018-09-27  29.680000  30.299999  29.680000  30.290001  28.408072   8767900"
            ]
          },
          "metadata": {
            "tags": []
          },
          "execution_count": 3
        }
      ]
    },
    {
      "cell_type": "code",
      "metadata": {
        "id": "4kBKcFR4kR7S",
        "colab_type": "code",
        "outputId": "34e1efad-b9d3-4fbb-d524-ce5f45bce036",
        "colab": {
          "base_uri": "https://localhost:8080/",
          "height": 153
        }
      },
      "source": [
        "# o index se tornou um datetime\n",
        "df.index"
      ],
      "execution_count": 4,
      "outputs": [
        {
          "output_type": "execute_result",
          "data": {
            "text/plain": [
              "DatetimeIndex(['2018-09-21', '2018-09-24', '2018-09-25', '2018-09-26',\n",
              "               '2018-09-27', '2018-09-28', '2018-10-01', '2018-10-02',\n",
              "               '2018-10-03', '2018-10-04',\n",
              "               ...\n",
              "               '2019-09-09', '2019-09-10', '2019-09-11', '2019-09-12',\n",
              "               '2019-09-13', '2019-09-16', '2019-09-17', '2019-09-18',\n",
              "               '2019-09-19', '2019-09-20'],\n",
              "              dtype='datetime64[ns]', name='Date', length=246, freq=None)"
            ]
          },
          "metadata": {
            "tags": []
          },
          "execution_count": 4
        }
      ]
    },
    {
      "cell_type": "markdown",
      "metadata": {
        "id": "QgGsz5Zqo1BO",
        "colab_type": "text"
      },
      "source": [
        "## Gráfico de Linhas\n",
        "\n",
        "Vamos supor que você quisesse visualizar como foram as máximas das ações do Banco do Brasil.\n",
        "\n",
        "Vimos lá atrás que é possível selecionar apenas uma coluna de um *DataFrame*. Neste exemplo, vou selecionar a variável `High` usando `df['High']'.\n",
        "\n",
        "Em seguida, a unica coisa que eu faço é executar o método `plot()`"
      ]
    },
    {
      "cell_type": "code",
      "metadata": {
        "id": "NL_s3octmF1U",
        "colab_type": "code",
        "outputId": "e0de9d1a-79c6-407f-aa97-c3cac5dd1e93",
        "colab": {
          "base_uri": "https://localhost:8080/",
          "height": 277
        }
      },
      "source": [
        "df['High'].plot();"
      ],
      "execution_count": 5,
      "outputs": [
        {
          "output_type": "display_data",
          "data": {
            "image/png": "[encoded data removed]",
            "text/plain": [
              "<Figure size 432x288 with 1 Axes>"
            ]
          },
          "metadata": {
            "tags": []
          }
        }
      ]
    },
    {
      "cell_type": "code",
      "metadata": {
        "id": "bhNljHfhEIZp",
        "colab_type": "code",
        "colab": {
          "base_uri": "https://localhost:8080/",
          "height": 238
        },
        "outputId": "052056cc-5ef5-46e3-8eb5-653ce2707aed"
      },
      "source": [
        "# O x só fica, automaticamente como o eixo x por que é o índice, por isso não precisa falar o que será o x e o que será o y. Por default o x é o índice e o y\n",
        "# é o 'High' que coloquei na função plot.\n",
        "\n",
        "df['High']"
      ],
      "execution_count": 6,
      "outputs": [
        {
          "output_type": "execute_result",
          "data": {
            "text/plain": [
              "Date\n",
              "2018-09-21    30.580000\n",
              "2018-09-24    30.700001\n",
              "2018-09-25    29.760000\n",
              "2018-09-26    29.969999\n",
              "2018-09-27    30.299999\n",
              "                ...    \n",
              "2019-09-16    47.560001\n",
              "2019-09-17    47.450001\n",
              "2019-09-18    48.250000\n",
              "2019-09-19    48.700001\n",
              "2019-09-20    47.980000\n",
              "Name: High, Length: 246, dtype: float64"
            ]
          },
          "metadata": {
            "tags": []
          },
          "execution_count": 6
        }
      ]
    },
    {
      "cell_type": "markdown",
      "metadata": {
        "id": "UkXp_fRgqjiS",
        "colab_type": "text"
      },
      "source": [
        "## Histograma\n",
        "\n",
        "Quando se quer ter uma noção de quantas vezes uma determinada informação aparece no conjunto de dados, plotar o histograma pode ser de grande valor - Mostra bem a frequência com que os valores aparecem no dataframe.\n",
        "\n",
        "Histogramas são uma das principais ferramentas da estatística para extrair informações sobre frequencia e distribuição dos nossos dados. Ele é conceitualmente bem simples. Se você nunca teve contato com esse tipo de gráfico, recomendo assistir a [este vídeo da Khan Academy](https://www.youtube.com/watch?v=L0f8d3B8dk4).\n",
        "\n",
        "Vamos plotar o histograma do volume movimentado para as ações do BBAS3."
      ]
    },
    {
      "cell_type": "code",
      "metadata": {
        "id": "XTjGERgWGnnB",
        "colab_type": "code",
        "colab": {
          "base_uri": "https://localhost:8080/",
          "height": 294
        },
        "outputId": "46f192a4-d724-4b27-fff8-b869f4f86aab"
      },
      "source": [
        "# plotar histograma das variáveis\n",
        "\n",
        "df.hist();"
      ],
      "execution_count": 11,
      "outputs": [
        {
          "output_type": "display_data",
          "data": {
            "image/png": "[encoded data removed]",
            "text/plain": [
              "<Figure size 432x288 with 6 Axes>"
            ]
          },
          "metadata": {
            "tags": []
          }
        }
      ]
    },
    {
      "cell_type": "code",
      "metadata": {
        "id": "qDQLDEjEmf2q",
        "colab_type": "code",
        "outputId": "eb562faf-a006-4373-a009-d4af094f3c16",
        "colab": {
          "base_uri": "https://localhost:8080/",
          "height": 278
        }
      },
      "source": [
        "# estudar o histograma do volume - como exemplo\n",
        "\n",
        "df['Volume'].hist();"
      ],
      "execution_count": 7,
      "outputs": [
        {
          "output_type": "display_data",
          "data": {
            "image/png": "[encoded data removed]",
            "text/plain": [
              "<Figure size 432x288 with 1 Axes>"
            ]
          },
          "metadata": {
            "tags": []
          }
        }
      ]
    },
    {
      "cell_type": "code",
      "metadata": {
        "id": "kSCWuzd4E40U",
        "colab_type": "code",
        "colab": {}
      },
      "source": [
        "# Basicamente, esse gráfico nos fala onde estão concentrados os valores de volume, onde a maioria dos dados apresenta volume de 1, depois de 0,5 e 1,5 e assim\n",
        "# por diante. Dá uma boa ideia de valores estatísticos, como média..."
      ],
      "execution_count": 0,
      "outputs": []
    },
    {
      "cell_type": "markdown",
      "metadata": {
        "id": "EiUdSrcaqgLq",
        "colab_type": "text"
      },
      "source": [
        "## Gráfico de Dispersão (*Scatter Plot*)\n",
        "\n",
        "O gráfico de dispersão é um gráfico ideal para ver a correlação entre duas variáveis quaisquer.\n",
        "\n",
        "Serve não apenas para mostrar quanto uma variável é afetada por outra, mas também para plotar coordenadas geográficas (como foi feito no projeto do Módulo 1)."
      ]
    },
    {
      "cell_type": "code",
      "metadata": {
        "id": "zI75SRm-smMe",
        "colab_type": "code",
        "outputId": "e06bafd5-3ca5-4f21-f79d-e6118b465938",
        "colab": {
          "base_uri": "https://localhost:8080/",
          "height": 279
        }
      },
      "source": [
        "# plotar gráfico de dispersão entre as máximas e mínimas - começar a ver a correlação\n",
        "\n",
        "df.plot.scatter('Low', 'High');"
      ],
      "execution_count": 9,
      "outputs": [
        {
          "output_type": "display_data",
          "data": {
            "image/png": "[encoded data removed]",
            "text/plain": [
              "<Figure size 432x288 with 1 Axes>"
            ]
          },
          "metadata": {
            "tags": []
          }
        }
      ]
    },
    {
      "cell_type": "markdown",
      "metadata": {
        "id": "kfYfXZuMsoAk",
        "colab_type": "text"
      },
      "source": [
        "## Boxplot\n",
        "\n",
        "Boxplot é um dos tipos de gráficos que conseguem fornecer o maior número de informações estatísticas de uma vez só.\n",
        "\n",
        "<center><img src=\"https://pro.arcgis.com/en/pro-app/help/analysis/geoprocessing/charts/GUID-0E2C3730-C535-40CD-8152-80D794A996A7-web.png\" height=\"200px\"></center>\n",
        "\n",
        "É possível ter em uma imagem os valores máximos, mínimos, quartis e mediana. *Outliers* também são representados como pontos acima do valor máximo ou abaixo do valor mínimo"
      ]
    },
    {
      "cell_type": "code",
      "metadata": {
        "id": "71yeEn7nY_AT",
        "colab_type": "code",
        "outputId": "ee9da02b-0bf5-4bf4-e2dc-9ec5c9f9f2f1",
        "colab": {
          "base_uri": "https://localhost:8080/",
          "height": 265
        }
      },
      "source": [
        "# plotar o boxplot para os valores máximos da ação\n",
        "# High é a coluna da qual será feito o boxplot\n",
        "\n",
        "df.High.plot(kind=\"box\");"
      ],
      "execution_count": 10,
      "outputs": [
        {
          "output_type": "display_data",
          "data": {
            "image/png": "[encoded data removed]",
            "text/plain": [
              "<Figure size 432x288 with 1 Axes>"
            ]
          },
          "metadata": {
            "tags": []
          }
        }
      ]
    }
  ]
}