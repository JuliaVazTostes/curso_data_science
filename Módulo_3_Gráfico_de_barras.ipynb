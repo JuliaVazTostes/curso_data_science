{
  "nbformat": 4,
  "nbformat_minor": 0,
  "metadata": {
    "colab": {
      "name": "Módulo_3_Gráfico_de_barras.ipynb",
      "provenance": [],
      "authorship_tag": "ABX9TyMRDgHTM6lMBwykEPQ5WrwT",
      "include_colab_link": true
    },
    "kernelspec": {
      "name": "python3",
      "display_name": "Python 3"
    }
  },
  "cells": [
    {
      "cell_type": "markdown",
      "metadata": {
        "id": "view-in-github",
        "colab_type": "text"
      },
      "source": [
        "<a href=\"https://colab.research.google.com/github/JuliaVazTostes/curso_data_science/blob/master/M%C3%B3dulo_3_Gr%C3%A1fico_de_barras.ipynb\" target=\"_parent\"><img src=\"https://colab.research.google.com/assets/colab-badge.svg\" alt=\"Open In Colab\"/></a>"
      ]
    },
    {
      "cell_type": "markdown",
      "metadata": {
        "id": "OkivAeTKijg4",
        "colab_type": "text"
      },
      "source": [
        "# Gráfico de Barras\n",
        "\n",
        "O gráfico de barras é um gráfico composto por barras de formato retangular. O comprimento (ou altura) de cada barra é proporcional ao valor que ela representa. Vale ressaltar que é comum vermos tanto barras desenhadas na vertical quanto na horizontal.\n",
        "\n",
        "<center><img src=\"https://www.kdnuggets.com/wp-content/uploads/how-to-make-a-bar-chart-in-d3-fig12.png\" height=\"200px\"></center>\n",
        "\n",
        "Nenhuma verdade é absoluta, mas o gráfico de barras é bem mais útil quanto tentamos representar dados discretos. Apesar de muita gente confundir ele com o histograma, são conceitos completamente diferentes."
      ]
    },
    {
      "cell_type": "markdown",
      "metadata": {
        "id": "kkYfgbqwrTmq",
        "colab_type": "text"
      },
      "source": [
        "## Plotar o gráfico de barras\n",
        "\n",
        "Os dados que usaremos neste *notebook* são os dados públicos do Metrô de São Paulo.\n",
        "\n",
        "Os *datasets* contendo diversas estatísticas podem ser encontrados no [Portal da Governança Corporativa e Transparência](https://transparencia.metrosp.com.br/). Nesse Portal, você encontra deliberações do Comitê de Auditoria, composição dos conselhos, e informações de todas as áreas do Metrô, podendo acompanhar a gestão financeira, os novos projetos em gestação e o andamento das obras e sua evolução. \n",
        "\n",
        "Apesar de terem sido disponibilizados em formato `csv`, o *dataset* \"Entrada de Passageiros por Estação - Média Dias Úteis - Dezembro/2018\" precisou ser trabalhado e estruturado. \n",
        "\n",
        "Disponibilizei o arquivo já estruturado [neste link](https://raw.githubusercontent.com/carlosfab/curso_data_science_na_pratica/master/modulo_03/entrada_passageiro_linha1.csv)."
      ]
    },
    {
      "cell_type": "code",
      "metadata": {
        "id": "QoT66QjPoThl",
        "colab_type": "code",
        "outputId": "39c3e6f5-c869-45e0-d23b-822634838f5c",
        "colab": {
          "base_uri": "https://localhost:8080/",
          "height": 197
        }
      },
      "source": [
        "# importar bibliotecas\n",
        "import pandas as pd\n",
        "import matplotlib.pyplot as plt\n",
        "\n",
        "# importar dados para dataframe\n",
        "data = \"https://raw.githubusercontent.com/carlosfab/curso_data_science_na_pratica/master/modulo_03/entrada_passageiro_linha1.csv\"\n",
        "df = pd.read_csv(data)\n",
        "\n",
        "# apagar linha TOTAL\n",
        "df.drop(index=23, axis=0, inplace=True)\n",
        "\n",
        "# ver as 5 primeiras entradas\n",
        "df.head()"
      ],
      "execution_count": 1,
      "outputs": [
        {
          "output_type": "execute_result",
          "data": {
            "text/html": [
              "<div>\n",
              "<style scoped>\n",
              "    .dataframe tbody tr th:only-of-type {\n",
              "        vertical-align: middle;\n",
              "    }\n",
              "\n",
              "    .dataframe tbody tr th {\n",
              "        vertical-align: top;\n",
              "    }\n",
              "\n",
              "    .dataframe thead th {\n",
              "        text-align: right;\n",
              "    }\n",
              "</style>\n",
              "<table border=\"1\" class=\"dataframe\">\n",
              "  <thead>\n",
              "    <tr style=\"text-align: right;\">\n",
              "      <th></th>\n",
              "      <th>Estação</th>\n",
              "      <th>Entradas</th>\n",
              "    </tr>\n",
              "  </thead>\n",
              "  <tbody>\n",
              "    <tr>\n",
              "      <th>0</th>\n",
              "      <td>Jabaquara</td>\n",
              "      <td>90.0</td>\n",
              "    </tr>\n",
              "    <tr>\n",
              "      <th>1</th>\n",
              "      <td>Conceição</td>\n",
              "      <td>40.0</td>\n",
              "    </tr>\n",
              "    <tr>\n",
              "      <th>2</th>\n",
              "      <td>São Judas</td>\n",
              "      <td>20.0</td>\n",
              "    </tr>\n",
              "    <tr>\n",
              "      <th>3</th>\n",
              "      <td>Saúde</td>\n",
              "      <td>36.0</td>\n",
              "    </tr>\n",
              "    <tr>\n",
              "      <th>4</th>\n",
              "      <td>Praça da Árvore</td>\n",
              "      <td>22.0</td>\n",
              "    </tr>\n",
              "  </tbody>\n",
              "</table>\n",
              "</div>"
            ],
            "text/plain": [
              "           Estação  Entradas\n",
              "0        Jabaquara      90.0\n",
              "1        Conceição      40.0\n",
              "2        São Judas      20.0\n",
              "3            Saúde      36.0\n",
              "4  Praça da Árvore      22.0"
            ]
          },
          "metadata": {
            "tags": []
          },
          "execution_count": 1
        }
      ]
    },
    {
      "cell_type": "code",
      "metadata": {
        "id": "cp8jkIYUqfoJ",
        "colab_type": "code",
        "outputId": "0d267869-d445-4d15-8777-118d8a4c5e06",
        "colab": {
          "base_uri": "https://localhost:8080/",
          "height": 441
        }
      },
      "source": [
        "# plotar o gráfico de barras com a entrada média de passageiros\n",
        "fig, ax = plt.subplots(figsize=(10,6))\n",
        "\n",
        "# df['Entradas'].plot(kind='bar', ax=ax)  # pode ser feito desta maneira também\n",
        "df.plot(x=\"Estação\", y=\"Entradas\", kind=\"bar\", ax=ax)\n",
        "\n",
        "ax.set_title(\"Entrada Média de Passageiros - Linha 1 (Dezembro/2018)\")\n",
        "ax.set_xlabel(\"Estação\")\n",
        "ax.set_ylabel(\"Entradas\")\n",
        "\n",
        "plt.tight_layout()"
      ],
      "execution_count": 2,
      "outputs": [
        {
          "output_type": "display_data",
          "data": {
            "image/png": "[encoded data removed]",
            "text/plain": [
              "<Figure size 720x432 with 1 Axes>"
            ]
          },
          "metadata": {
            "tags": [],
            "needs_background": "light"
          }
        }
      ]
    }
  ]
}