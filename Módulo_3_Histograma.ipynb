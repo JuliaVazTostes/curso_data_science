{
  "nbformat": 4,
  "nbformat_minor": 0,
  "metadata": {
    "colab": {
      "name": "Módulo_3_Histograma.ipynb",
      "provenance": [],
      "authorship_tag": "ABX9TyNvXme011Vs3OEOGi9oUeX0",
      "include_colab_link": true
    },
    "kernelspec": {
      "name": "python3",
      "display_name": "Python 3"
    }
  },
  "cells": [
    {
      "cell_type": "markdown",
      "metadata": {
        "id": "view-in-github",
        "colab_type": "text"
      },
      "source": [
        "<a href=\"https://colab.research.google.com/github/JuliaVazTostes/curso_data_science/blob/master/M%C3%B3dulo_3_Histograma.ipynb\" target=\"_parent\"><img src=\"https://colab.research.google.com/assets/colab-badge.svg\" alt=\"Open In Colab\"/></a>"
      ]
    },
    {
      "cell_type": "markdown",
      "metadata": {
        "id": "OkivAeTKijg4",
        "colab_type": "text"
      },
      "source": [
        "# Histograma\n",
        "\n",
        "O histograma também é conhecido como sendo um gráfico de distribuição de frequências. Representando essas frequências em formato de barras, a altura de cada barra pode representar tanto a quantidade ou frequência que cada classe de valores ocorre no *dataset*.\n",
        "\n",
        "Um histograma de valores absolutos, tem no eixo y a quantidade absoluta de ocorrências dos valores de cada classe:\n",
        "\n",
        "<center><img src=\"https://raw.githubusercontent.com/carlosfab/curso_data_science_na_pratica/master/modulo_03/histograma_absoluto.png\"width=\"450px\"></center>\n",
        "\n",
        "Já um histograma de dados de proporção, conhecido como histograma de área de unidade, exibe a proporção que cada classe representa no todo:\n",
        "\n",
        "<center><img src=\"https://raw.githubusercontent.com/carlosfab/curso_data_science_na_pratica/master/modulo_03/histograma_proporcao.png\"width=\"450px\"></center>\n",
        "\n",
        "\n",
        "Os histogramas fornecem muitas informações ao cientista de dados, pois mostra visualmente a distribuição dos dados relativos a uma determinada variável. Além disso, permite obter informações sobre a centralidade, amplitude e simetria da mesma.\n",
        "\n",
        "Recomendo assistir a [este vídeo](https://pt.khanacademy.org/math/ap-statistics/quantitative-data-ap/histograms-stem-leaf/v/histograms-intro) ensinando a criar e interpretar um histograma."
      ]
    },
    {
      "cell_type": "markdown",
      "metadata": {
        "id": "kkYfgbqwrTmq",
        "colab_type": "text"
      },
      "source": [
        "## Plotar o histograma\n",
        "\n",
        "Para exemplificar o gráfico de linhas, vou usar um *dataset* contendo o número de casos (mensal) de dengue para a cidade de Campinas-SP.\n",
        "\n",
        "Além do número de casos confirmados de dengue, o *dataset* mostra ainda dados relacionados à chuva, temperaturas média, mínima e máxima do município. O período contemplado pelo conjunto de dados é de 1998 a 2015."
      ]
    },
    {
      "cell_type": "code",
      "metadata": {
        "id": "QoT66QjPoThl",
        "colab_type": "code",
        "outputId": "ec8e2929-a998-43cb-9717-1b54463fc682",
        "colab": {
          "base_uri": "https://localhost:8080/",
          "height": 227
        }
      },
      "source": [
        "# importar bibliotecas\n",
        "import pandas as pd\n",
        "import matplotlib.pyplot as plt\n",
        "\n",
        "# importar dados para dataframe\n",
        "data = \"https://raw.githubusercontent.com/carlosfab/curso_data_science_na_pratica/master/modulo_03/dengue-dataset.csv\"\n",
        "df = pd.read_csv(data, index_col=\"data\", parse_dates=True)\n",
        "\n",
        "# ver as 5 primeiras entradas\n",
        "df.head()"
      ],
      "execution_count": 1,
      "outputs": [
        {
          "output_type": "execute_result",
          "data": {
            "text/html": [
              "<div>\n",
              "<style scoped>\n",
              "    .dataframe tbody tr th:only-of-type {\n",
              "        vertical-align: middle;\n",
              "    }\n",
              "\n",
              "    .dataframe tbody tr th {\n",
              "        vertical-align: top;\n",
              "    }\n",
              "\n",
              "    .dataframe thead th {\n",
              "        text-align: right;\n",
              "    }\n",
              "</style>\n",
              "<table border=\"1\" class=\"dataframe\">\n",
              "  <thead>\n",
              "    <tr style=\"text-align: right;\">\n",
              "      <th></th>\n",
              "      <th>casos-confirmados</th>\n",
              "      <th>chuva</th>\n",
              "      <th>temperatura-media</th>\n",
              "      <th>temperatura-mininima</th>\n",
              "      <th>temperatura-maxima</th>\n",
              "    </tr>\n",
              "    <tr>\n",
              "      <th>data</th>\n",
              "      <th></th>\n",
              "      <th></th>\n",
              "      <th></th>\n",
              "      <th></th>\n",
              "      <th></th>\n",
              "    </tr>\n",
              "  </thead>\n",
              "  <tbody>\n",
              "    <tr>\n",
              "      <th>1998-01-01</th>\n",
              "      <td>237</td>\n",
              "      <td>179.2</td>\n",
              "      <td>25.7</td>\n",
              "      <td>20.2</td>\n",
              "      <td>28.1</td>\n",
              "    </tr>\n",
              "    <tr>\n",
              "      <th>1998-02-01</th>\n",
              "      <td>331</td>\n",
              "      <td>226.3</td>\n",
              "      <td>25.1</td>\n",
              "      <td>20.0</td>\n",
              "      <td>28.0</td>\n",
              "    </tr>\n",
              "    <tr>\n",
              "      <th>1998-03-01</th>\n",
              "      <td>562</td>\n",
              "      <td>149.1</td>\n",
              "      <td>24.8</td>\n",
              "      <td>22.4</td>\n",
              "      <td>27.2</td>\n",
              "    </tr>\n",
              "    <tr>\n",
              "      <th>1998-04-01</th>\n",
              "      <td>187</td>\n",
              "      <td>46.4</td>\n",
              "      <td>22.7</td>\n",
              "      <td>18.1</td>\n",
              "      <td>26.0</td>\n",
              "    </tr>\n",
              "    <tr>\n",
              "      <th>1998-05-01</th>\n",
              "      <td>32</td>\n",
              "      <td>88.3</td>\n",
              "      <td>19.2</td>\n",
              "      <td>15.7</td>\n",
              "      <td>22.9</td>\n",
              "    </tr>\n",
              "  </tbody>\n",
              "</table>\n",
              "</div>"
            ],
            "text/plain": [
              "            casos-confirmados  chuva  ...  temperatura-mininima  temperatura-maxima\n",
              "data                                  ...                                          \n",
              "1998-01-01                237  179.2  ...                  20.2                28.1\n",
              "1998-02-01                331  226.3  ...                  20.0                28.0\n",
              "1998-03-01                562  149.1  ...                  22.4                27.2\n",
              "1998-04-01                187   46.4  ...                  18.1                26.0\n",
              "1998-05-01                 32   88.3  ...                  15.7                22.9\n",
              "\n",
              "[5 rows x 5 columns]"
            ]
          },
          "metadata": {
            "tags": []
          },
          "execution_count": 1
        }
      ]
    },
    {
      "cell_type": "code",
      "metadata": {
        "id": "cp8jkIYUqfoJ",
        "colab_type": "code",
        "outputId": "4fa8f30e-ceb1-40f6-b0b5-96b643228ebe",
        "colab": {
          "base_uri": "https://localhost:8080/",
          "height": 296
        }
      },
      "source": [
        "# plotar o histograma da temperatura média\n",
        "fig, ax = plt.subplots()\n",
        "\n",
        "df[\"temperatura-media\"].plot(kind=\"hist\", ax=ax)\n",
        "ax.set_title(\"Histograma da Temperatura Média\")\n",
        "ax.set_ylabel(\"Quantidade de ocorrências\")\n",
        "ax.set_xlabel(\"Temperatura\")\n",
        "\n",
        "plt.tight_layout()"
      ],
      "execution_count": 2,
      "outputs": [
        {
          "output_type": "display_data",
          "data": {
            "image/png": "[encoded data removed]",
            "text/plain": [
              "<Figure size 432x288 with 1 Axes>"
            ]
          },
          "metadata": {
            "tags": [],
            "needs_background": "light"
          }
        }
      ]
    },
    {
      "cell_type": "markdown",
      "metadata": {
        "id": "_3h4Jno73OKp",
        "colab_type": "text"
      },
      "source": [
        "O histograma acima está representando os valores absolutos no eixo y. Para plotar em termos de frequência relativa, acrescenta-se `density=True` dentro da função."
      ]
    },
    {
      "cell_type": "code",
      "metadata": {
        "id": "jJ7zVLCz3ebm",
        "colab_type": "code",
        "outputId": "a586d8ad-5fc1-48f4-90a0-1557c5525f56",
        "colab": {
          "base_uri": "https://localhost:8080/",
          "height": 296
        }
      },
      "source": [
        "# plotar o histograma da temperatura média\n",
        "fig, ax = plt.subplots()\n",
        "\n",
        "df[\"temperatura-media\"].plot(kind=\"hist\", ax=ax, density=True)\n",
        "ax.set_title(\"Histograma da Temperatura Média\")\n",
        "ax.set_ylabel(\"Frequência de ocorrências\")\n",
        "ax.set_xlabel(\"Temperatura\")\n",
        "\n",
        "plt.tight_layout()"
      ],
      "execution_count": 3,
      "outputs": [
        {
          "output_type": "display_data",
          "data": {
            "image/png": "[encoded data removed]",
            "text/plain": [
              "<Figure size 432x288 with 1 Axes>"
            ]
          },
          "metadata": {
            "tags": [],
            "needs_background": "light"
          }
        }
      ]
    },
    {
      "cell_type": "markdown",
      "metadata": {
        "id": "GSiLDKUY3lVK",
        "colab_type": "text"
      },
      "source": [
        "A quantidade de barras é definida por padrão, porém não é fixa. Conseguimos alterar a quantidade de `bins` informando dentro do método de maneira explícita."
      ]
    },
    {
      "cell_type": "code",
      "metadata": {
        "id": "HqzsxzuQ30FY",
        "colab_type": "code",
        "outputId": "d971bcb8-2f0c-4ad1-afa2-d46c6f74970e",
        "colab": {
          "base_uri": "https://localhost:8080/",
          "height": 296
        }
      },
      "source": [
        "# plotar o histograma da temperatura média\n",
        "fig, ax = plt.subplots()\n",
        "\n",
        "df[\"temperatura-media\"].plot(kind=\"hist\", ax=ax, density=True, bins=40)\n",
        "ax.set_title(\"Histograma da Temperatura Média\")\n",
        "ax.set_ylabel(\"Quantidade de ocorrências\")\n",
        "ax.set_xlabel(\"Temperatura\")\n",
        "\n",
        "plt.tight_layout()"
      ],
      "execution_count": 4,
      "outputs": [
        {
          "output_type": "display_data",
          "data": {
            "image/png": "[encoded data removed]",
            "text/plain": [
              "<Figure size 432x288 with 1 Axes>"
            ]
          },
          "metadata": {
            "tags": [],
            "needs_background": "light"
          }
        }
      ]
    },
    {
      "cell_type": "markdown",
      "metadata": {
        "id": "3WUwO5yq2c25",
        "colab_type": "text"
      },
      "source": [
        "Se você reparar no histograma acima, vai perceber que as os *ticks* no eixo x não estão alinhados com o início/final de cada barra.\n",
        "\n",
        "Isso pode ser resolvido usando a biblioteca `numpy` para extrair os valores de cada `bin`."
      ]
    },
    {
      "cell_type": "code",
      "metadata": {
        "id": "u-ROv9DYqwhd",
        "colab_type": "code",
        "outputId": "379a6f95-a81f-4f42-b792-acb9c85dbf84",
        "colab": {
          "base_uri": "https://localhost:8080/",
          "height": 296
        }
      },
      "source": [
        "import numpy as np\n",
        "\n",
        "count, bin_edges = np.histogram(df[\"temperatura-media\"])\n",
        "\n",
        "# plotar o histograma da temperatura média\n",
        "fig, ax = plt.subplots()\n",
        "\n",
        "df[\"temperatura-media\"].plot(kind=\"hist\", ax=ax, density=True, bins=40,\n",
        "                            xticks=bin_edges)\n",
        "\n",
        "ax.set_title(\"Histograma da Temperatura Média\")\n",
        "ax.set_ylabel(\"Quantidade de ocorrências\")\n",
        "ax.set_xlabel(\"Temperatura\")\n",
        "\n",
        "plt.tight_layout()"
      ],
      "execution_count": 5,
      "outputs": [
        {
          "output_type": "display_data",
          "data": {
            "image/png": "[encoded data removed]",
            "text/plain": [
              "<Figure size 432x288 with 1 Axes>"
            ]
          },
          "metadata": {
            "tags": [],
            "needs_background": "light"
          }
        }
      ]
    }
  ]
}