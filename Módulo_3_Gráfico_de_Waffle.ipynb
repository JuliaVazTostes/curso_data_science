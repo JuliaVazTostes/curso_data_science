{
  "nbformat": 4,
  "nbformat_minor": 0,
  "metadata": {
    "colab": {
      "name": "Módulo_3_Gráfico_de_Waffle.ipynb",
      "provenance": [],
      "authorship_tag": "ABX9TyPtP7nrYKBROEZJcp9urOkr",
      "include_colab_link": true
    },
    "kernelspec": {
      "name": "python3",
      "display_name": "Python 3"
    }
  },
  "cells": [
    {
      "cell_type": "markdown",
      "metadata": {
        "id": "view-in-github",
        "colab_type": "text"
      },
      "source": [
        "<a href=\"https://colab.research.google.com/github/JuliaVazTostes/curso_data_science/blob/master/M%C3%B3dulo_3_Gr%C3%A1fico_de_Waffle.ipynb\" target=\"_parent\"><img src=\"https://colab.research.google.com/assets/colab-badge.svg\" alt=\"Open In Colab\"/></a>"
      ]
    },
    {
      "cell_type": "markdown",
      "metadata": {
        "id": "u9gCMTNzs4bv",
        "colab_type": "text"
      },
      "source": [
        "# Gráfico de Waffle\n",
        "\n",
        "Se o nome não é familiar, com certeza você já viu vários exemplos de *waffle charts* em sites, revistas e jornais, pois eles não apenas transmitem informações claramente, mas são visualmente mais impactantes que gráficos de barras ou pizza.\n",
        "\n",
        "<img src=\"http://sigmoidal.ai/wp-content/uploads/2019/10/grafico_de_waffle.png\" height=\"250px\">\n",
        "\n",
        "A figura acima mostra como a biblioteca `pywaffle` foi usada para mostrar pictorialmente o resultado das eleições dos EUA em 2016.\n",
        "\n",
        "Pode reparar, os grandes meios de comunicação preferem esse tipo de visualização, pois nem todo mundo está acostumado a interpretar gráficos de linhas ou barras.\n",
        "\n",
        "Como vamos ver abaixo, a biblioteca tem muitas outras formas de customização, e recomendo você incluir ela no seu arsenal de ferramentas."
      ]
    },
    {
      "cell_type": "markdown",
      "metadata": {
        "id": "nZ12mejMuUCN",
        "colab_type": "text"
      },
      "source": [
        "## Usando `pywaffle` para criar gráficos de waffle\n",
        "\n",
        "Infelizmente, gráficos de waffle não vêm junto com a biblioteca `matplotlib`. A melhor alternatica que eu conheço é o pacote `pywaffle`, uma vez que ele se integra perfeitamente ao `matplotlib`.\n",
        "\n",
        "[Bem documentada](https://github.com/gyli/PyWaffle) e com vários exemplos de aplicação, em poucas linhas de código você já consegue plotar seu primeiro gráfico.\n",
        "\n",
        "Ah sim, verifique antes se você têm ela instalada no seu ambiente. Caso contrário, basta instalar usando o conda (`conda install pywaffle`) ou pip (`pip install pywaffle`)."
      ]
    },
    {
      "cell_type": "code",
      "metadata": {
        "id": "RJiTOwmQxf6D",
        "colab_type": "code",
        "outputId": "a24420b8-e8e6-4f61-e8d0-daae6a1542c9",
        "colab": {
          "base_uri": "https://localhost:8080/",
          "height": 34
        }
      },
      "source": [
        "# instalar o pywaffle\n",
        "!pip install pywaffle -q"
      ],
      "execution_count": 1,
      "outputs": [
        {
          "output_type": "stream",
          "text": [
            "\u001b[?25l\r\u001b[K     |▋                               | 10kB 23.7MB/s eta 0:00:01\r\u001b[K     |█▎                              | 20kB 1.7MB/s eta 0:00:01\r\u001b[K     |█▉                              | 30kB 2.3MB/s eta 0:00:01\r\u001b[K     |██▌                             | 40kB 2.6MB/s eta 0:00:01\r\u001b[K     |███▏                            | 51kB 2.0MB/s eta 0:00:01\r\u001b[K     |███▊                            | 61kB 2.2MB/s eta 0:00:01\r\u001b[K     |████▍                           | 71kB 2.5MB/s eta 0:00:01\r\u001b[K     |█████                           | 81kB 2.7MB/s eta 0:00:01\r\u001b[K     |█████▋                          | 92kB 2.9MB/s eta 0:00:01\r\u001b[K     |██████▎                         | 102kB 2.7MB/s eta 0:00:01\r\u001b[K     |██████▉                         | 112kB 2.7MB/s eta 0:00:01\r\u001b[K     |███████▌                        | 122kB 2.7MB/s eta 0:00:01\r\u001b[K     |████████                        | 133kB 2.7MB/s eta 0:00:01\r\u001b[K     |████████▊                       | 143kB 2.7MB/s eta 0:00:01\r\u001b[K     |█████████▍                      | 153kB 2.7MB/s eta 0:00:01\r\u001b[K     |██████████                      | 163kB 2.7MB/s eta 0:00:01\r\u001b[K     |██████████▋                     | 174kB 2.7MB/s eta 0:00:01\r\u001b[K     |███████████▏                    | 184kB 2.7MB/s eta 0:00:01\r\u001b[K     |███████████▉                    | 194kB 2.7MB/s eta 0:00:01\r\u001b[K     |████████████▌                   | 204kB 2.7MB/s eta 0:00:01\r\u001b[K     |█████████████                   | 215kB 2.7MB/s eta 0:00:01\r\u001b[K     |█████████████▊                  | 225kB 2.7MB/s eta 0:00:01\r\u001b[K     |██████████████▎                 | 235kB 2.7MB/s eta 0:00:01\r\u001b[K     |███████████████                 | 245kB 2.7MB/s eta 0:00:01\r\u001b[K     |███████████████▋                | 256kB 2.7MB/s eta 0:00:01\r\u001b[K     |████████████████▏               | 266kB 2.7MB/s eta 0:00:01\r\u001b[K     |████████████████▉               | 276kB 2.7MB/s eta 0:00:01\r\u001b[K     |█████████████████▌              | 286kB 2.7MB/s eta 0:00:01\r\u001b[K     |██████████████████              | 296kB 2.7MB/s eta 0:00:01\r\u001b[K     |██████████████████▊             | 307kB 2.7MB/s eta 0:00:01\r\u001b[K     |███████████████████▎            | 317kB 2.7MB/s eta 0:00:01\r\u001b[K     |████████████████████            | 327kB 2.7MB/s eta 0:00:01\r\u001b[K     |████████████████████▋           | 337kB 2.7MB/s eta 0:00:01\r\u001b[K     |█████████████████████▏          | 348kB 2.7MB/s eta 0:00:01\r\u001b[K     |█████████████████████▉          | 358kB 2.7MB/s eta 0:00:01\r\u001b[K     |██████████████████████▍         | 368kB 2.7MB/s eta 0:00:01\r\u001b[K     |███████████████████████         | 378kB 2.7MB/s eta 0:00:01\r\u001b[K     |███████████████████████▊        | 389kB 2.7MB/s eta 0:00:01\r\u001b[K     |████████████████████████▎       | 399kB 2.7MB/s eta 0:00:01\r\u001b[K     |█████████████████████████       | 409kB 2.7MB/s eta 0:00:01\r\u001b[K     |█████████████████████████▌      | 419kB 2.7MB/s eta 0:00:01\r\u001b[K     |██████████████████████████▏     | 430kB 2.7MB/s eta 0:00:01\r\u001b[K     |██████████████████████████▉     | 440kB 2.7MB/s eta 0:00:01\r\u001b[K     |███████████████████████████▍    | 450kB 2.7MB/s eta 0:00:01\r\u001b[K     |████████████████████████████    | 460kB 2.7MB/s eta 0:00:01\r\u001b[K     |████████████████████████████▋   | 471kB 2.7MB/s eta 0:00:01\r\u001b[K     |█████████████████████████████▎  | 481kB 2.7MB/s eta 0:00:01\r\u001b[K     |██████████████████████████████  | 491kB 2.7MB/s eta 0:00:01\r\u001b[K     |██████████████████████████████▌ | 501kB 2.7MB/s eta 0:00:01\r\u001b[K     |███████████████████████████████▏| 512kB 2.7MB/s eta 0:00:01\r\u001b[K     |███████████████████████████████▉| 522kB 2.7MB/s eta 0:00:01\r\u001b[K     |████████████████████████████████| 532kB 2.7MB/s \n",
            "\u001b[?25h"
          ],
          "name": "stdout"
        }
      ]
    },
    {
      "cell_type": "markdown",
      "metadata": {
        "id": "qLYYNOX50Nn8",
        "colab_type": "text"
      },
      "source": [
        "Vamos supor que uma pesquisa muito séria da Folha de São Paulo identificou que 33% dos brasileiros falam Bolacha, 48% falam Biscoito e uma minoria de 19% fala Salgadinho.\n",
        "\n",
        "No lugar de plotar um manjado gráfico de pizza, olha como ficaria usando o gráfico de waffle."
      ]
    },
    {
      "cell_type": "code",
      "metadata": {
        "id": "hAk6bw5TwQ_c",
        "colab_type": "code",
        "outputId": "f1188d44-7760-4144-d078-3986fa8bc472",
        "colab": {
          "base_uri": "https://localhost:8080/",
          "height": 161
        }
      },
      "source": [
        "# importar as bibliotecas necessárias\n",
        "import matplotlib.pyplot as plt\n",
        "from pywaffle import Waffle\n",
        "\n",
        "# exemplo de Waffle\n",
        "# Se passarmos as chaves e os valores o gráfico também é gerado\n",
        "fig = plt.figure(\n",
        "                FigureClass=Waffle,\n",
        "                rows=4,\n",
        "                columns=10,\n",
        "                values={'Bolacha': 33,\n",
        "                        'Biscoito': 48,\n",
        "                        'Salgadinho': 19},\n",
        "                )\n",
        "\n",
        "fig.set_tight_layout(False)\n",
        "plt.show()"
      ],
      "execution_count": 5,
      "outputs": [
        {
          "output_type": "display_data",
          "data": {
            "image/png": "[encoded data removed]",
            "text/plain": [
              "<Waffle size 432x288 with 1 Axes>"
            ]
          },
          "metadata": {
            "tags": [],
            "needs_background": "light"
          }
        }
      ]
    },
    {
      "cell_type": "code",
      "metadata": {
        "id": "EvK3y1v8FNmd",
        "colab_type": "code",
        "colab": {
          "base_uri": "https://localhost:8080/",
          "height": 161
        },
        "outputId": "a1006c32-8ebb-4ee4-9e81-b3e878f38f73"
      },
      "source": [
        "# Como vimos, a legenda foi gerada em cima do gráfico, o que visualmente e para o entendimento não é legal. A legenda fica melhor quando posicionada fora do gráfico\n",
        "# Posicionamento\n",
        "fig = plt.figure(\n",
        "                FigureClass=Waffle,\n",
        "                rows=4,\n",
        "                columns=10,\n",
        "                values={'Bolacha': 33,\n",
        "                        'Biscoito': 48,\n",
        "                        'Salgadinho': 19},\n",
        "                legend={'loc': 'upper left'}\n",
        "                )\n",
        "\n",
        "fig.set_tight_layout(False)\n",
        "plt.show()"
      ],
      "execution_count": 10,
      "outputs": [
        {
          "output_type": "display_data",
          "data": {
            "image/png": "[encoded data removed]",
            "text/plain": [
              "<Waffle size 432x288 with 1 Axes>"
            ]
          },
          "metadata": {
            "tags": [],
            "needs_background": "light"
          }
        }
      ]
    },
    {
      "cell_type": "code",
      "metadata": {
        "id": "yaQ-xJ-KF9wm",
        "colab_type": "code",
        "colab": {
          "base_uri": "https://localhost:8080/",
          "height": 161
        },
        "outputId": "f4ee8cae-59b3-4860-ca2d-bb377afd14cb"
      },
      "source": [
        "# Fora da área do gráfico \n",
        "\n",
        "fig = plt.figure(\n",
        "                FigureClass=Waffle,\n",
        "                rows=4,\n",
        "                columns=10,\n",
        "                values={'Bolacha': 33,\n",
        "                        'Biscoito': 48,\n",
        "                        'Salgadinho': 19},\n",
        "                legend={'loc': 'upper left',\n",
        "                        'bbox_to_anchor': (1.1, 1)}\n",
        "                )\n",
        "\n",
        "fig.set_tight_layout(False)\n",
        "plt.show()"
      ],
      "execution_count": 12,
      "outputs": [
        {
          "output_type": "display_data",
          "data": {
            "image/png": "[encoded data removed]",
            "text/plain": [
              "<Waffle size 432x288 with 1 Axes>"
            ]
          },
          "metadata": {
            "tags": [],
            "needs_background": "light"
          }
        }
      ]
    },
    {
      "cell_type": "markdown",
      "metadata": {
        "id": "1w_EUk_pyRGf",
        "colab_type": "text"
      },
      "source": [
        "## Customizando seus gráficos de waffle\n",
        "\n",
        "O `pywaffle` é altamente customizado e aceita os ícones da [Font Awesome](http://fontawesome.io/).\n",
        "\n",
        "Vamos ver como customizar os ícones da biblioteca para representar as estatísticas de ocorrências e acidentes com aviões no Brasil. Para isso, vou importar a [base de dados do Centro de Prevenção e Investigação de Acidentes Aeronáuticos](http://www2.fab.mil.br/cenipa/index.php/estatisticas).\n",
        "\n"
      ]
    },
    {
      "cell_type": "code",
      "metadata": {
        "id": "8AjO5zZN1obp",
        "colab_type": "code",
        "outputId": "7ce239aa-fbf0-4eb8-e838-327ef6cef008",
        "colab": {
          "base_uri": "https://localhost:8080/",
          "height": 141
        }
      },
      "source": [
        "# importar o pandas\n",
        "import pandas as pd\n",
        "\n",
        "# importar dados do CENIPA\n",
        "df = pd.read_csv(\"https://raw.githubusercontent.com/carlosfab/curso_data_science_na_pratica/master/modulo_02/ocorrencias_aviacao.csv\")\n",
        "\n",
        "# extrair value counts da variavel ocorrencia_classificacao\n",
        "data = df.ocorrencia_classificacao.value_counts().to_dict()\n",
        "\n",
        "# plotar gráfico de waffle\n",
        "fig = plt.figure(\n",
        "                FigureClass=Waffle,\n",
        "                rows=5,\n",
        "                columns=15,\n",
        "                colors=(\"#232066\", \"#983D3D\", \"#DCB732\"),\n",
        "                values=data, icons='plane', icon_size=12,\n",
        "                legend={'loc': 'upper left', 'bbox_to_anchor': (1,1)},\n",
        "                icon_legend=True\n",
        "                )\n",
        "fig.set_tight_layout(False)\n",
        "plt.show();"
      ],
      "execution_count": 3,
      "outputs": [
        {
          "output_type": "display_data",
          "data": {
            "image/png": "[encoded data removed]",
            "text/plain": [
              "<Waffle size 432x288 with 1 Axes>"
            ]
          },
          "metadata": {
            "tags": [],
            "needs_background": "light"
          }
        }
      ]
    },
    {
      "cell_type": "markdown",
      "metadata": {
        "id": "9XxbcYjE2c0c",
        "colab_type": "text"
      },
      "source": [
        "Na figura acima, eu selecionei o ícone `plane`, que é apenas um entre inúmeros outros disponíveis.\n",
        "\n",
        "Em outro exemplo, suponha que você quer representar por *waffle chart* a quantidade de homens e mulheres que estão matriculados em um determinado curso de ingles. Repare que eu vou usar o ícone `child`."
      ]
    },
    {
      "cell_type": "code",
      "metadata": {
        "id": "Aqno4q4G1_5X",
        "colab_type": "code",
        "outputId": "0bc5736c-15d4-4b73-aa16-be0f374e07dd",
        "colab": {
          "base_uri": "https://localhost:8080/",
          "height": 208
        }
      },
      "source": [
        "# plotar homens e mulheres na sala de aula\n",
        "fig = plt.figure(\n",
        "    FigureClass=Waffle, \n",
        "    rows=8, \n",
        "    values={'Homens': 48, 'Mulheres': 66}, \n",
        "    colors=(\"#232066\", \"#983D3D\"),\n",
        "    legend={'loc': 'upper left', 'bbox_to_anchor': (1, 1)},\n",
        "    icons='child', icon_size=12, \n",
        "    icon_legend=True\n",
        ")\n",
        "\n",
        "fig.set_tight_layout(False)\n",
        "plt.show();"
      ],
      "execution_count": 4,
      "outputs": [
        {
          "output_type": "display_data",
          "data": {
            "image/png": "[encoded data removed]",
            "text/plain": [
              "<Waffle size 432x288 with 1 Axes>"
            ]
          },
          "metadata": {
            "tags": [],
            "needs_background": "light"
          }
        }
      ]
    }
  ]
}