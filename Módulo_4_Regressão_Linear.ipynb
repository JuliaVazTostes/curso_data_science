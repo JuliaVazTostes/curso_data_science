{
  "nbformat": 4,
  "nbformat_minor": 0,
  "metadata": {
    "colab": {
      "name": "Módulo_4_Regressão_Linear.ipynb",
      "provenance": [],
      "collapsed_sections": [],
      "include_colab_link": true
    },
    "kernelspec": {
      "name": "python3",
      "display_name": "Python 3"
    }
  },
  "cells": [
    {
      "cell_type": "markdown",
      "metadata": {
        "id": "view-in-github",
        "colab_type": "text"
      },
      "source": [
        "<a href=\"https://colab.research.google.com/github/JuliaVazTostes/curso_data_science/blob/master/M%C3%B3dulo_4_Regress%C3%A3o_Linear.ipynb\" target=\"_parent\"><img src=\"https://colab.research.google.com/assets/colab-badge.svg\" alt=\"Open In Colab\"/></a>"
      ]
    },
    {
      "cell_type": "markdown",
      "metadata": {
        "id": "81XdDOLXem8n",
        "colab_type": "text"
      },
      "source": [
        "# Regressão Linear\n",
        "\n",
        "Uma analise de regressão estuda a relação existente entre uma variável dependente e uma ou mais variáveis independentes. Essa relação é representada por um modelo matemático. Quando temos apenas uma variável independente estabelecendo uma relação linear com a variável dependente, esse modelo é chamado regressão linear simples. Quando há várias variáveis independentes, temos um modelo de regressão linear múltipla.\n",
        " \n",
        "\n",
        "Se você já vendeu qualquer coisa, sabe que é difícil definir um bom preço de venda. Muitas vezes colocamos o preço barato demais (e vendemos na hora) e algumas vezes colocamos o preço tão alto que não aparece nenhum interessado sequer. Se formos falar de imóveis, aí temos vários fatores complicadores.\n",
        "\n",
        "<p align=\"center\">\n",
        "<img src=\"http://sigmoidal.ai/wp-content/uploads/2019/10/Screen-Shot-2019-10-07-at-02.49.34-1.png\" width=\"50%\"></p>\n",
        "\n",
        "Na figura acima, temos o *scatter plot* entre área do imóvel e preço de venda do mesmo para a cidade de Ames, localizada no estado americano de Iowa. Vamos supor que você tenha uma casa com uma área de 1339 $m^2$ e queira colocá-la a venda. Qual seria o preço que você colocaria nela?\n",
        "\n",
        "Uma vez que temos dados de milhares de outras casas e parece esses dados têm uma relação linear, por que não tentar traçar uma reta para inferir o preço da nossa própria casa?\n",
        "\n",
        "<p align=\"center\">\n",
        "<img src=\"http://sigmoidal.ai/wp-content/uploads/2019/10/Screen-Shot-2019-10-07-at-02.52.24-1.png\" width=\"50%\"></p>\n",
        "\n",
        "Uma reta por ser representada por uma equação do tipo $\\hat{y} = \\theta_0 + \\theta_1 x_1$, onde $\\hat{y}$ é o valor que estamos querendo prever.\n",
        "\n",
        "Para saber o \"quão boa\" uma reta é, ou seja, se ela é ideal para representar os nosso pontos, podemos calcuar o erro quadrático médio (*Mean Squared Error* - MSE) para todos os pontos.\n",
        "\n",
        "$$MSE = \\frac{1}{n} \\sum_{i=1}^{n}(y_i - \\hat{y}_i)^2$$\n",
        "\n",
        "Basicamente, essa equação calcula a distância de cada ponto até a reta. Quanto menor for esse valor, melhor é a nossa solução. O algoritmo do `scikit-learn` efetua todos os cálculos para minimizar esse valor ao máximo para nós. Quando ele encontra esse valor *ótimo*, armazena os valores dos coeficientes e do intercepto como atributo da variável.\n",
        "\n",
        "<p align=\"center\">\n",
        "<img src=\"http://sigmoidal.ai/wp-content/uploads/2019/10/1_fX95txC9xSwSPeP6ch2nmg.gif\" width=\"30%\"></p>\n",
        "\n",
        "## Regressão Linear Simples\n",
        "\n",
        "Para demonstrar como implementar uma Regressão Linear Simples, nós iremos usar o *dataset* [House Prices: Advanced Regression Techniques](https://www.kaggle.com/c/house-prices-advanced-regression-techniques/data) juntamente com a biblioteca `scikit-learn`.\n",
        "\n",
        "\n",
        "O [*dataset* original](https://www.kaggle.com/c/house-prices-advanced-regression-techniques/data) que eu estou usando neste *notebook* contém 79 variáveis relativas à imóveis de Ames, uma cidade localizada no estado americano de Iowa, e está disponível para download no Kaggle. No entanto, para facilitar o entendimento dos conceitos básicos, preparei uma versão simplificada desse *dataset*, onde há apenas uma variável. O arquivo `csv` está disponível [neste link](http://dl.dropboxusercontent.com/s/g8cgvjiorjbz54p/precificacao_housing.csv?dl=0).\n",
        "\n",
        "Vou começar importando o arquivo para um *DataFrame* e fazendo uma análise bem rápida deste. Lembre-se, o foco deste módulo não é fazer uma análise exploratória extensiva, mas sim focar na etapa de implementação de modelos de *Machine Learning*.\n"
      ]
    },
    {
      "cell_type": "code",
      "metadata": {
        "id": "YEDrcpEJen6R",
        "colab_type": "code",
        "outputId": "4e583cf7-d38f-436b-ab00-be119c714013",
        "colab": {
          "base_uri": "https://localhost:8080/",
          "height": 197
        }
      },
      "source": [
        "# importar os pacotes necessários\n",
        "import pandas as pd\n",
        "import matplotlib.pyplot as plt\n",
        "import seaborn as sns\n",
        "\n",
        "# configurar o notebook\n",
        "sns.set_style()\n",
        "\n",
        "# importar o arquivo\n",
        "df = pd.read_csv(\"http://dl.dropboxusercontent.com/s/g8cgvjiorjbz54p/precificacao_housing.csv?dl=0\")\n",
        "\n",
        "# ver as primeiras entradas\n",
        "df.head()"
      ],
      "execution_count": 3,
      "outputs": [
        {
          "output_type": "execute_result",
          "data": {
            "text/html": [
              "<div>\n",
              "<style scoped>\n",
              "    .dataframe tbody tr th:only-of-type {\n",
              "        vertical-align: middle;\n",
              "    }\n",
              "\n",
              "    .dataframe tbody tr th {\n",
              "        vertical-align: top;\n",
              "    }\n",
              "\n",
              "    .dataframe thead th {\n",
              "        text-align: right;\n",
              "    }\n",
              "</style>\n",
              "<table border=\"1\" class=\"dataframe\">\n",
              "  <thead>\n",
              "    <tr style=\"text-align: right;\">\n",
              "      <th></th>\n",
              "      <th>GrLivArea</th>\n",
              "      <th>SalePrice</th>\n",
              "    </tr>\n",
              "  </thead>\n",
              "  <tbody>\n",
              "    <tr>\n",
              "      <th>0</th>\n",
              "      <td>1710</td>\n",
              "      <td>208500</td>\n",
              "    </tr>\n",
              "    <tr>\n",
              "      <th>1</th>\n",
              "      <td>1262</td>\n",
              "      <td>181500</td>\n",
              "    </tr>\n",
              "    <tr>\n",
              "      <th>2</th>\n",
              "      <td>1786</td>\n",
              "      <td>223500</td>\n",
              "    </tr>\n",
              "    <tr>\n",
              "      <th>3</th>\n",
              "      <td>1717</td>\n",
              "      <td>140000</td>\n",
              "    </tr>\n",
              "    <tr>\n",
              "      <th>4</th>\n",
              "      <td>2198</td>\n",
              "      <td>250000</td>\n",
              "    </tr>\n",
              "  </tbody>\n",
              "</table>\n",
              "</div>"
            ],
            "text/plain": [
              "   GrLivArea  SalePrice\n",
              "0       1710     208500\n",
              "1       1262     181500\n",
              "2       1786     223500\n",
              "3       1717     140000\n",
              "4       2198     250000"
            ]
          },
          "metadata": {
            "tags": []
          },
          "execution_count": 3
        }
      ]
    },
    {
      "cell_type": "markdown",
      "metadata": {
        "id": "Z_BA7vRqijYp",
        "colab_type": "text"
      },
      "source": [
        "O *dataset* importado contém a variável `GrLivArea` contendo o tamanho do imóvel ($m^2$) e a variável alvo `SalePrice` com o preço de venda do mesmo. \n",
        "\n",
        "Para visulizarmos melhor, pode-se plotar um gráfico de dispersão para estudar o relacionamento das variáveis.\n"
      ]
    },
    {
      "cell_type": "code",
      "metadata": {
        "id": "P2eoj9A-erFo",
        "colab_type": "code",
        "outputId": "194c7157-4af9-4379-bfdd-9e33d6a9ceca",
        "colab": {
          "base_uri": "https://localhost:8080/",
          "height": 368
        }
      },
      "source": [
        "# plotar gráfico de dispersão.\n",
        "fig, ax = plt.subplots(figsize=(8,5))\n",
        "df.plot.scatter(x='GrLivArea', y='SalePrice', ax=ax)\n",
        "plt.tight_layout()"
      ],
      "execution_count": 4,
      "outputs": [
        {
          "output_type": "display_data",
          "data": {
            "image/png": "[encoded data removed]",
            "text/plain": [
              "<Figure size 576x360 with 1 Axes>"
            ]
          },
          "metadata": {
            "tags": [],
            "needs_background": "light"
          }
        }
      ]
    },
    {
      "cell_type": "markdown",
      "metadata": {
        "id": "STR1nCWKgqV4",
        "colab_type": "text"
      },
      "source": [
        "### Regressão Linear Simples com o `scikit-learn`\n",
        "\n",
        "Uma vez que você tenha feito toda uma análise exploratória, definido variáveis e preparado os dados adequadamente, chegou o momento de construir a Regressão Linear Simples.\n",
        "\n",
        "Em competições do Kaggle, normalmente são fornecidos dados de treino e teste. Já no mundo real, você deve dividir o seu conjunto entre *train* e *test* de maneira que eles sejam mutuamente exclusivos.\n",
        "\n",
        "Essa etapa é de extrema importância, pois vai tornar o modelo mais genérico e com melhor precisão em relação aos dados novos que venham a ser entrada do mesmo. Neste *dataset*, eu vou separar 20% dos dados para o teste no final.\n",
        "\n"
      ]
    },
    {
      "cell_type": "code",
      "metadata": {
        "id": "ALwopto2jzIy",
        "colab_type": "code",
        "colab": {}
      },
      "source": [
        "# importar scikit-learn para criar o modelo\n",
        "from sklearn.linear_model import LinearRegression\n",
        "from sklearn.model_selection import train_test_split\n",
        "\n",
        "from sklearn.metrics import r2_score\n",
        "from sklearn.metrics import mean_absolute_error\n",
        "from sklearn.metrics import mean_squared_error"
      ],
      "execution_count": 0,
      "outputs": []
    },
    {
      "cell_type": "markdown",
      "metadata": {
        "id": "u9HYg6Pi6C2B",
        "colab_type": "text"
      },
      "source": [
        "Separar a variável dependente (`SalePrice`) da nossa *feature*, e usar a função `train_test_split` para fazer a divisão entre dados de treino e teste."
      ]
    },
    {
      "cell_type": "code",
      "metadata": {
        "id": "GC4kMvoCkOV2",
        "colab_type": "code",
        "outputId": "ea9188d4-1b4d-4d10-d03d-1c1d197e5890",
        "colab": {
          "base_uri": "https://localhost:8080/",
          "height": 407
        }
      },
      "source": [
        "# determinar X e y... mas atenção com 1-feature (reshape)\n",
        "X = df['GrLivArea']\n",
        "y = df['SalePrice']\n",
        "\n",
        "# dividir o dataset entre treino e teste\n",
        "X_train, X_test, y_train, y_test = train_test_split(X, y)\n",
        "\n",
        "# criar e treinar um modelo de Regressão Linear\n",
        "rls_model = LinearRegression()\n",
        "rls_model.fit(X_train, y_train)"
      ],
      "execution_count": 12,
      "outputs": [
        {
          "output_type": "error",
          "ename": "ValueError",
          "evalue": "ignored",
          "traceback": [
            "\u001b[0;31m---------------------------------------------------------------------------\u001b[0m",
            "\u001b[0;31mValueError\u001b[0m                                Traceback (most recent call last)",
            "\u001b[0;32m<ipython-input-12-555382b849f0>\u001b[0m in \u001b[0;36m<module>\u001b[0;34m()\u001b[0m\n\u001b[1;32m      8\u001b[0m \u001b[0;31m# criar e treinar um modelo de Regressão Linear\u001b[0m\u001b[0;34m\u001b[0m\u001b[0;34m\u001b[0m\u001b[0;34m\u001b[0m\u001b[0m\n\u001b[1;32m      9\u001b[0m \u001b[0mrls_model\u001b[0m \u001b[0;34m=\u001b[0m \u001b[0mLinearRegression\u001b[0m\u001b[0;34m(\u001b[0m\u001b[0;34m)\u001b[0m\u001b[0;34m\u001b[0m\u001b[0;34m\u001b[0m\u001b[0m\n\u001b[0;32m---> 10\u001b[0;31m \u001b[0mrls_model\u001b[0m\u001b[0;34m.\u001b[0m\u001b[0mfit\u001b[0m\u001b[0;34m(\u001b[0m\u001b[0mX_train\u001b[0m\u001b[0;34m,\u001b[0m \u001b[0my_train\u001b[0m\u001b[0;34m)\u001b[0m\u001b[0;34m\u001b[0m\u001b[0;34m\u001b[0m\u001b[0m\n\u001b[0m",
            "\u001b[0;32m/usr/local/lib/python3.6/dist-packages/sklearn/linear_model/_base.py\u001b[0m in \u001b[0;36mfit\u001b[0;34m(self, X, y, sample_weight)\u001b[0m\n\u001b[1;32m    490\u001b[0m         \u001b[0mn_jobs_\u001b[0m \u001b[0;34m=\u001b[0m \u001b[0mself\u001b[0m\u001b[0;34m.\u001b[0m\u001b[0mn_jobs\u001b[0m\u001b[0;34m\u001b[0m\u001b[0;34m\u001b[0m\u001b[0m\n\u001b[1;32m    491\u001b[0m         X, y = check_X_y(X, y, accept_sparse=['csr', 'csc', 'coo'],\n\u001b[0;32m--> 492\u001b[0;31m                          y_numeric=True, multi_output=True)\n\u001b[0m\u001b[1;32m    493\u001b[0m \u001b[0;34m\u001b[0m\u001b[0m\n\u001b[1;32m    494\u001b[0m         \u001b[0;32mif\u001b[0m \u001b[0msample_weight\u001b[0m \u001b[0;32mis\u001b[0m \u001b[0;32mnot\u001b[0m \u001b[0;32mNone\u001b[0m\u001b[0;34m:\u001b[0m\u001b[0;34m\u001b[0m\u001b[0;34m\u001b[0m\u001b[0m\n",
            "\u001b[0;32m/usr/local/lib/python3.6/dist-packages/sklearn/utils/validation.py\u001b[0m in \u001b[0;36mcheck_X_y\u001b[0;34m(X, y, accept_sparse, accept_large_sparse, dtype, order, copy, force_all_finite, ensure_2d, allow_nd, multi_output, ensure_min_samples, ensure_min_features, y_numeric, warn_on_dtype, estimator)\u001b[0m\n\u001b[1;32m    753\u001b[0m                     \u001b[0mensure_min_features\u001b[0m\u001b[0;34m=\u001b[0m\u001b[0mensure_min_features\u001b[0m\u001b[0;34m,\u001b[0m\u001b[0;34m\u001b[0m\u001b[0;34m\u001b[0m\u001b[0m\n\u001b[1;32m    754\u001b[0m                     \u001b[0mwarn_on_dtype\u001b[0m\u001b[0;34m=\u001b[0m\u001b[0mwarn_on_dtype\u001b[0m\u001b[0;34m,\u001b[0m\u001b[0;34m\u001b[0m\u001b[0;34m\u001b[0m\u001b[0m\n\u001b[0;32m--> 755\u001b[0;31m                     estimator=estimator)\n\u001b[0m\u001b[1;32m    756\u001b[0m     \u001b[0;32mif\u001b[0m \u001b[0mmulti_output\u001b[0m\u001b[0;34m:\u001b[0m\u001b[0;34m\u001b[0m\u001b[0;34m\u001b[0m\u001b[0m\n\u001b[1;32m    757\u001b[0m         y = check_array(y, 'csr', force_all_finite=True, ensure_2d=False,\n",
            "\u001b[0;32m/usr/local/lib/python3.6/dist-packages/sklearn/utils/validation.py\u001b[0m in \u001b[0;36mcheck_array\u001b[0;34m(array, accept_sparse, accept_large_sparse, dtype, order, copy, force_all_finite, ensure_2d, allow_nd, ensure_min_samples, ensure_min_features, warn_on_dtype, estimator)\u001b[0m\n\u001b[1;32m    554\u001b[0m                     \u001b[0;34m\"Reshape your data either using array.reshape(-1, 1) if \"\u001b[0m\u001b[0;34m\u001b[0m\u001b[0;34m\u001b[0m\u001b[0m\n\u001b[1;32m    555\u001b[0m                     \u001b[0;34m\"your data has a single feature or array.reshape(1, -1) \"\u001b[0m\u001b[0;34m\u001b[0m\u001b[0;34m\u001b[0m\u001b[0m\n\u001b[0;32m--> 556\u001b[0;31m                     \"if it contains a single sample.\".format(array))\n\u001b[0m\u001b[1;32m    557\u001b[0m \u001b[0;34m\u001b[0m\u001b[0m\n\u001b[1;32m    558\u001b[0m         \u001b[0;31m# in the future np.flexible dtypes will be handled like object dtypes\u001b[0m\u001b[0;34m\u001b[0m\u001b[0;34m\u001b[0m\u001b[0;34m\u001b[0m\u001b[0m\n",
            "\u001b[0;31mValueError\u001b[0m: Expected 2D array, got 1D array instead:\narray=[1340 1224 1060 ... 2020 1086 1802].\nReshape your data either using array.reshape(-1, 1) if your data has a single feature or array.reshape(1, -1) if it contains a single sample."
          ]
        }
      ]
    },
    {
      "cell_type": "markdown",
      "metadata": {
        "id": "j-GH6AQjl19a",
        "colab_type": "text"
      },
      "source": [
        "Mais importante que se desesperar é entender o que aconteceu. A mensagem de erro acima é por causa do `sklearn.pipeline` do pacote. Ela acontece porque passamos apenas uma variável (*feature*) na variável `X`. Veja esta parte da mensagem do erro:\n",
        "\n",
        "\n",
        "> *...if your data has a single feature or array.reshape(1, -1)*\n",
        "\n",
        "Uma coisa que você deve se lembrar é que o `scikit-learn` espera duas coisas nesta etapa:\n",
        "\n",
        "* Que a variável `X` seja sempre um `np.array` com **duas dimensões**\n",
        "* Que a variável `y` seja sempre um `np.array` com **uma dimensão**\n",
        "\n",
        "Olhe os `prints` abaixo para ver as dimensões de cada variável nossa e ver que não estão de acordo com o que o pacote espera."
      ]
    },
    {
      "cell_type": "code",
      "metadata": {
        "id": "MuPEWChAklsm",
        "colab_type": "code",
        "outputId": "d2566d64-5ece-444b-ee02-ac5dff72b8ba",
        "colab": {
          "base_uri": "https://localhost:8080/",
          "height": 87
        }
      },
      "source": [
        "print(\"df:\\t\\t\",df.shape)\n",
        "\n",
        "print(\"X:\\t\\t\",X.shape)\n",
        "\n",
        "print(\"X (reshape):\\t\",X.values.reshape(-1,1).shape)\n",
        "\n",
        "print(\"y:\\t\\t\", y.shape)"
      ],
      "execution_count": 13,
      "outputs": [
        {
          "output_type": "stream",
          "text": [
            "df:\t\t (1338, 2)\n",
            "X:\t\t (1338,)\n",
            "X (reshape):\t (1338, 1)\n",
            "y:\t\t (1338,)\n"
          ],
          "name": "stdout"
        }
      ]
    },
    {
      "cell_type": "markdown",
      "metadata": {
        "id": "Nlov8iAwnZhO",
        "colab_type": "text"
      },
      "source": [
        "Isso é fácil de resolver. Quando for preciso mudar a dimensão de um *array* para atender a condição acima, use `.reshape(-1,1)`."
      ]
    },
    {
      "cell_type": "code",
      "metadata": {
        "id": "X81_JKTVknGy",
        "colab_type": "code",
        "outputId": "ace78273-188c-4270-c502-ef5fb7be8640",
        "colab": {
          "base_uri": "https://localhost:8080/",
          "height": 34
        }
      },
      "source": [
        "# determinar X e y... mas atenção com 1-feature (reshape)\n",
        "X = df['GrLivArea'].values.reshape(-1,1)\n",
        "y = df['SalePrice']\n",
        "\n",
        "# dividir o dataset entre treino e teste\n",
        "X_train, X_test, y_train, y_test = train_test_split(X, y)\n",
        "\n",
        "# criar e treinar um modelo de Regressão Linear\n",
        "rls_model = LinearRegression()\n",
        "rls_model.fit(X_train, y_train)\n"
      ],
      "execution_count": 14,
      "outputs": [
        {
          "output_type": "execute_result",
          "data": {
            "text/plain": [
              "LinearRegression(copy_X=True, fit_intercept=True, n_jobs=None, normalize=False)"
            ]
          },
          "metadata": {
            "tags": []
          },
          "execution_count": 14
        }
      ]
    },
    {
      "cell_type": "markdown",
      "metadata": {
        "id": "w5WzJJAE7XVd",
        "colab_type": "text"
      },
      "source": [
        "A única coisa agora que você precisa para construir e treinar um modelo é declarar `LinearRegression()` em uma variável e chamar o método `fit(X_train, y_train)` passando os dados de treino.\n",
        "\n",
        "Simples e direto, com apenas duas linhas treinamos um modelo de Regressão Linear em cima dos nossos dados.\n"
      ]
    },
    {
      "cell_type": "code",
      "metadata": {
        "id": "Yg1J8bck7TiS",
        "colab_type": "code",
        "colab": {}
      },
      "source": [
        "# criar e treinar um modelo de Regressão Linear\n"
      ],
      "execution_count": 0,
      "outputs": []
    },
    {
      "cell_type": "markdown",
      "metadata": {
        "id": "-CH-HcURkrRp",
        "colab_type": "text"
      },
      "source": [
        "Se estamos falando de Regressão Linear, estamos falando de construir reta. Essa reta possui coeficientes associados com os ângulos de inclinação e intercepto. Neste caso específico da Regressão Linear Simples, temos apenas um coeficiente de regressão.\n",
        "\n",
        "Para obtermos os **coeficiente de regressão** e **intercepto**, basta acessar os atributos do modelo diretamente da variável `ml_model`."
      ]
    },
    {
      "cell_type": "code",
      "metadata": {
        "id": "yFIDSoE8lKfm",
        "colab_type": "code",
        "outputId": "13d1bfcd-047f-4b99-9b99-afb7d9084365",
        "colab": {
          "base_uri": "https://localhost:8080/",
          "height": 52
        }
      },
      "source": [
        "# imprimir os coeficientes\n",
        "print(\"Coeficiente:\\t\", rls_model.coef_)\n",
        "print(\"Intercepto:\\t\", rls_model.intercept_)"
      ],
      "execution_count": 0,
      "outputs": [
        {
          "output_type": "stream",
          "text": [
            "Coeficiente:\t [81.94762499]\n",
            "Intercepto:\t 46209.744646132385\n"
          ],
          "name": "stdout"
        }
      ]
    },
    {
      "cell_type": "markdown",
      "metadata": {
        "id": "Y6BrHJJRpE0M",
        "colab_type": "text"
      },
      "source": [
        "Como estamos trabalhando com um problema de baixa dimensionalidade (apenas uma variável), é possível plotar a nossa reta, obtida pelo modelo de *Machine Learning* sobre os dados do nosso *dataset*. Veja como ela representa bem nosso conjunto de pontos."
      ]
    },
    {
      "cell_type": "code",
      "metadata": {
        "id": "FFHZ-QOupgaf",
        "colab_type": "code",
        "outputId": "9e148185-645e-4fd8-c6f7-62095ba078fe",
        "colab": {
          "base_uri": "https://localhost:8080/",
          "height": 282
        }
      },
      "source": [
        "# plotar reta e dados\n",
        "fig, ax = plt.subplots()\n",
        "ax.scatter(X, y, s=1, color='blue')\n",
        "ax.plot(X, (rls_model.coef_ * X + rls_model.intercept_), '--r', linewidth=1)"
      ],
      "execution_count": 16,
      "outputs": [
        {
          "output_type": "execute_result",
          "data": {
            "text/plain": [
              "[<matplotlib.lines.Line2D at 0x7fa12fed3438>]"
            ]
          },
          "metadata": {
            "tags": []
          },
          "execution_count": 16
        },
        {
          "output_type": "display_data",
          "data": {
            "image/png": "[encoded data removed]",
            "text/plain": [
              "<Figure size 432x288 with 1 Axes>"
            ]
          },
          "metadata": {
            "tags": [],
            "needs_background": "light"
          }
        }
      ]
    },
    {
      "cell_type": "markdown",
      "metadata": {
        "id": "N42QlEE68yXx",
        "colab_type": "text"
      },
      "source": [
        "Com o modelo treinado, ele já está pronto para fazer previsões em cima de dados novos. Como separamos lá em cima dos dados de teste na variável `y_test`, vamos fazer as previsões usando o método `predict()` e armazenar na variável `y_pred`."
      ]
    },
    {
      "cell_type": "code",
      "metadata": {
        "id": "OakEosiG2j6_",
        "colab_type": "code",
        "colab": {}
      },
      "source": [
        "# previsões em cima do dataset de teste\n",
        "y_pred = rls_model.predict(X_test)"
      ],
      "execution_count": 0,
      "outputs": []
    },
    {
      "cell_type": "markdown",
      "metadata": {
        "id": "mPfenJ6k2eW3",
        "colab_type": "text"
      },
      "source": [
        "Tem uma frase muito conhecida na área de Comando e Controle (C2) do militarismo que diz que \"você não controla o que não pode medir\".\n",
        "\n",
        "Um modelo de *Machine Learning* deve ser quantificável, seja em termos de desempenho ou precisão. No caso de modelos de Regressão, \n",
        "Vamos testar o desempenho do modelo em cima do nosso conjunto de testes usando as métricas abaixo:\n",
        "\n",
        "* ***R-Squared -*** métrica popularmente usada para calcular a acurácia do seu modelo. Basicamente, calcula como o seu modelo se encaixa aos seus dados, quantificando a qualidade entre 0 e 1. No caso, a melhor pontuação que seu modelo pode atingir é 1.\n",
        "\n",
        "* ***Mean Absolut Error (MAE) -*** é a média absoluta do erro, representada pela média das somas dos erros individuais (distâncias entre pontos e retas).\n",
        "\n",
        "* ***Mean Squared Error (MSE) -*** é a média dos quadrados dos error e provavelmente a métrica mais conhecida. Tende a penalizar exponencialmente os erros, tratando diferentemente erros pequenos e grandes."
      ]
    },
    {
      "cell_type": "code",
      "metadata": {
        "id": "LzleKM4F9RCz",
        "colab_type": "code",
        "outputId": "da7238a7-2951-4ff8-c363-40924a326a87",
        "colab": {
          "base_uri": "https://localhost:8080/",
          "height": 70
        }
      },
      "source": [
        "# avaliar o desempenho do modelo\n",
        "print(\"R2 Score:\\t\", r2_score(y_test, y_pred))\n",
        "print(\"MAE:\\t\\t\", mean_absolute_error(y_test, y_pred))\n",
        "print(\"MSE:\\t\\t\", mean_squared_error(y_test, y_pred))"
      ],
      "execution_count": 20,
      "outputs": [
        {
          "output_type": "stream",
          "text": [
            "R2 Score:\t 0.4257223469816166\n",
            "MAE:\t\t 31150.989198068728\n",
            "MSE:\t\t 1632746134.5828726\n"
          ],
          "name": "stdout"
        }
      ]
    },
    {
      "cell_type": "code",
      "metadata": {
        "id": "tjWqEteIphJc",
        "colab_type": "code",
        "colab": {
          "base_uri": "https://localhost:8080/",
          "height": 1000
        },
        "outputId": "a42ba97c-58a2-4a2c-b4f9-79447feb3e15"
      },
      "source": [
        "# Previsões feitas (y_pred) utilizando o X_test\n",
        "y_pred"
      ],
      "execution_count": 22,
      "outputs": [
        {
          "output_type": "execute_result",
          "data": {
            "text/plain": [
              "array([138018.22861055, 182694.05555207, 169200.80395279, 138347.3323081 ,\n",
              "       156694.86344614, 247116.1043462 , 124278.14923812, 165580.66327982,\n",
              "       164428.80033841, 126993.25474285, 199807.44782433, 149948.2376465 ,\n",
              "       197092.3423196 , 112924.07167287, 170105.83912104, 211984.28463344,\n",
              "       161137.76336298, 205319.93475818, 211902.00870905, 119752.97339689,\n",
              "       162783.2818507 , 180061.22597173, 173725.97979401, 181871.29630821,\n",
              "       256001.90417987, 174384.1871891 , 172245.01315507, 145669.88957844,\n",
              "       131271.60281091, 125430.01217952, 124278.14923812, 148714.09878071,\n",
              "       155789.8282779 , 158258.10600947, 174055.08349156, 173314.60017209,\n",
              "       165580.66327982, 137360.02121547, 120164.35301882, 122303.52705285,\n",
              "       125759.11587706, 179896.67412295, 157517.62269   , 157682.17453877,\n",
              "       148384.99508317, 138594.16008125, 166732.52622122, 107247.03289024,\n",
              "       166732.52622122, 204990.83106064, 175206.94643296, 144024.37109072,\n",
              "       115310.07348006, 123784.4936918 , 183023.15924962, 192155.78685645,\n",
              "       170023.56319665, 179485.29450102, 230331.81577148, 126499.59919653,\n",
              "       164428.80033841, 102804.13297341, 162783.2818507 , 148631.82285633,\n",
              "       107658.41251217, 150112.78949527, 158340.38193386, 182364.95185453,\n",
              "       135467.67495459, 177017.01676945, 175042.39458419, 110620.34579006,\n",
              "       165251.55958227, 139581.47117388, 116873.31604339, 144518.02663704,\n",
              "       181213.08891313, 145998.99327598, 116873.31604339, 126993.25474285,\n",
              "       144518.02663704, 163441.48924578, 140568.78226651, 207870.48841415,\n",
              "       171175.42613805, 140733.33411529, 214123.45866747, 157023.96714369,\n",
              "       193883.58126855, 172574.11685261, 169694.45949911, 127075.53066723,\n",
              "       141062.43781283, 161384.59113614,  73267.07611888, 152910.17092439,\n",
              "       120987.11226268, 140815.61003967, 181048.53706436, 167719.83731385,\n",
              "       163606.04109455, 127733.73806232, 169612.18357472, 236667.06194919,\n",
              "       145176.23403212, 217743.59934045, 165580.66327982, 163441.48924578,\n",
              "       185573.71290558, 186478.74807382, 126910.97881846, 175947.42975243,\n",
              "       116873.31604339, 167884.38916262, 185738.26475435, 165580.66327982,\n",
              "       150606.44504159, 208446.41988485, 169283.07987718, 124607.25293566,\n",
              "       145998.99327598, 215028.49383571, 178251.15563524, 164346.52441403,\n",
              "       189193.85357856, 138594.16008125, 168707.14840648, 186807.85177137,\n",
              "       160315.00411912, 171093.15021367, 134480.36386196, 137935.95268617,\n",
              "       115556.90125321, 191908.95908329, 181295.36483751, 132505.7416767 ,\n",
              "       151511.48020983, 182364.95185453, 253122.24682637, 116544.21234584,\n",
              "       130860.22318898, 207705.93656537, 133575.32869372, 127240.08251601,\n",
              "       204085.7958924 , 269166.05208161, 184750.95366172, 191250.7516882 ,\n",
              "       147150.85621738, 236667.06194919, 180554.88151804, 169283.07987718,\n",
              "       186314.19622505, 138429.60823248, 154720.24126088, 126417.32327215,\n",
              "       198902.41265609, 186643.29992259, 157517.62269   , 182447.22777892,\n",
              "       102886.40889779, 260856.18371864, 201123.86261451, 212889.31980168,\n",
              "       188782.47395663, 107822.96436094, 147479.95991493, 223173.81034991,\n",
              "       191250.7516882 , 153239.27462194, 168624.87248209, 158504.93378263,\n",
              "       282083.37221019, 116873.31604339, 192896.27017592, 187712.88693961,\n",
              "       184833.22958611, 222021.94740851, 262995.35775267, 153074.72277317,\n",
              "       201206.13853889, 221692.84371097, 249995.7616997 , 197503.72194153,\n",
              "       170188.11504542, 132012.08613039, 105766.0662513 , 149290.03025142,\n",
              "       128391.94545741, 166403.42252367, 163606.04109455, 167473.00954069,\n",
              "       140075.1267202 , 191744.40723452, 108974.82730235, 154391.13756334,\n",
              "       144435.75071265, 146657.20067107, 254027.28199461, 290804.62019509,\n",
              "       155543.00050474, 146492.6488223 , 141144.71373722, 137360.02121547,\n",
              "       119341.59377496, 178744.81118155, 163359.2133214 , 163112.38554824,\n",
              "       116873.31604339, 238065.75266375, 146163.54512475, 131353.8787353 ,\n",
              "       145834.44142721, 190263.44059557, 143201.61184686, 208528.69580923,\n",
              "       123784.4936918 , 151346.92836106, 191250.7516882 , 147479.95991493,\n",
              "       120822.56041391, 157270.79491684, 147397.68399054, 234281.06014201,\n",
              "       148631.82285633, 156283.48382421, 187054.67954452, 134398.08793758,\n",
              "       163770.59294333, 168871.70025525, 183023.15924962, 195529.09975627,\n",
              "       231977.3342592 , 159163.14117772, 221528.2918622 , 177510.67231576,\n",
              "       176852.46492068, 193883.58126855, 186396.47214944, 220129.60114764,\n",
              "       142543.40445178, 122961.73444794, 137277.74529108, 116873.31604339,\n",
              "       146821.75251984, 199807.44782433, 207047.72917029, 181706.74445944,\n",
              "       175042.39458419, 130860.22318898, 232882.36942745, 112924.07167287,\n",
              "       171257.70206244, 137935.95268617, 120822.56041391, 133986.70831565,\n",
              "       140239.67856897, 170599.49466735, 183187.71109839, 164264.24848964,\n",
              "       238723.96005884, 134644.91571073, 138429.60823248, 239793.54707586,\n",
              "       157435.34676562, 145423.06180528, 120164.35301882, 145998.99327598,\n",
              "       148467.27100756, 165580.66327982, 177510.67231576, 222186.49925728,\n",
              "       162289.62630438, 163030.10962385, 209762.83467502, 207212.28101906,\n",
              "       177428.39639138, 195529.09975627, 136537.26197161, 156694.86344614,\n",
              "       147809.06361247, 115310.07348006, 137689.12491301, 142707.95630055,\n",
              "       182282.67593014, 114734.14200936, 187383.78324207, 131929.810206  ,\n",
              "       125512.2881039 , 149290.03025142, 187959.71471277, 176852.46492068,\n",
              "       110291.24209252, 157846.72638754, 145669.88957844, 126993.25474285,\n",
              "       144518.02663704, 169200.80395279, 154391.13756334, 145998.99327598,\n",
              "       157846.72638754, 170846.32244051, 143859.81924195, 219389.11782817,\n",
              "       216920.84009659, 121809.87150654, 132012.08613039, 114980.96978251,\n",
              "       176441.08529875, 159492.24487526, 193965.85719294, 174631.01496226,\n",
              "       146904.02844423, 165827.49105297, 120822.56041391, 146821.75251984,\n",
              "       226793.95102289, 185162.33328365, 229262.22875447, 119177.04192619,\n",
              "       215275.32160887, 182611.77962769, 182035.84815699, 134480.36386196,\n",
              "       154062.0338658 , 187054.67954452, 220705.53261834, 253615.90237268,\n",
              "       160973.21151421, 124113.59738934, 212889.31980168, 166238.8706749 ,\n",
              "       176605.63714752, 168131.21693578, 179403.01857664])"
            ]
          },
          "metadata": {
            "tags": []
          },
          "execution_count": 22
        }
      ]
    },
    {
      "cell_type": "markdown",
      "metadata": {
        "id": "b8q8PdAv9UvW",
        "colab_type": "text"
      },
      "source": [
        "## Regressão Linear Múltipla\n",
        "\n",
        "O raciocínio usado na Regressão Linear Múltipla é exatamente o mesmo que vimos com a anterior. A diferença é que temos mais variáveis independentes para considerar no nosso modelo.\n",
        "\n",
        "Para demonstrar como implementá-la, vou usar um *dataset* mais completo que o nosso anterior, disponível para download [neste link](http://dl.dropboxusercontent.com/s/gc1rm540g4i670n/precificacao_housing_plus.csv?dl=0).\n",
        "\n",
        "Mantivemos as 1460 entradas, porém temos agora 34 *features*. Vamos importar o arquivo e dar uma olhada nas primeiras entradas."
      ]
    },
    {
      "cell_type": "code",
      "metadata": {
        "id": "I7wI3qsVAVSb",
        "colab_type": "code",
        "outputId": "430530ee-484e-474c-ec8b-1ac5a4ccb3ce",
        "colab": {
          "base_uri": "https://localhost:8080/",
          "height": 253
        }
      },
      "source": [
        "# importar os pacotes necessários\n",
        "import pandas as pd\n",
        "import matplotlib.pyplot as plt\n",
        "import seaborn as sns\n",
        "from sklearn.linear_model import LinearRegression\n",
        "from sklearn.model_selection import train_test_split\n",
        "from sklearn.metrics import r2_score\n",
        "from sklearn.metrics import mean_absolute_error\n",
        "from sklearn.metrics import mean_squared_error\n",
        "\n",
        "# configurar o notebook\n",
        "sns.set_style()\n",
        "\n",
        "# importar o arquivo\n",
        "df2 = pd.read_csv(\"http://dl.dropboxusercontent.com/s/gc1rm540g4i670n/precificacao_housing_plus.csv?dl=0\")\n",
        "\n",
        "# ver as primeiras entradas\n",
        "print(\"Tamanho de df2: {}\\n\".format(df2.shape))\n",
        "\n",
        "df2.drop('Id', axis=1, inplace=True)\n",
        "df2.head()"
      ],
      "execution_count": 24,
      "outputs": [
        {
          "output_type": "stream",
          "text": [
            "Tamanho de df2: (1460, 35)\n",
            "\n"
          ],
          "name": "stdout"
        },
        {
          "output_type": "execute_result",
          "data": {
            "text/html": [
              "<div>\n",
              "<style scoped>\n",
              "    .dataframe tbody tr th:only-of-type {\n",
              "        vertical-align: middle;\n",
              "    }\n",
              "\n",
              "    .dataframe tbody tr th {\n",
              "        vertical-align: top;\n",
              "    }\n",
              "\n",
              "    .dataframe thead th {\n",
              "        text-align: right;\n",
              "    }\n",
              "</style>\n",
              "<table border=\"1\" class=\"dataframe\">\n",
              "  <thead>\n",
              "    <tr style=\"text-align: right;\">\n",
              "      <th></th>\n",
              "      <th>MSSubClass</th>\n",
              "      <th>LotArea</th>\n",
              "      <th>OverallQual</th>\n",
              "      <th>OverallCond</th>\n",
              "      <th>YearBuilt</th>\n",
              "      <th>YearRemodAdd</th>\n",
              "      <th>BsmtFinSF1</th>\n",
              "      <th>BsmtFinSF2</th>\n",
              "      <th>BsmtUnfSF</th>\n",
              "      <th>TotalBsmtSF</th>\n",
              "      <th>1stFlrSF</th>\n",
              "      <th>2ndFlrSF</th>\n",
              "      <th>LowQualFinSF</th>\n",
              "      <th>GrLivArea</th>\n",
              "      <th>BsmtFullBath</th>\n",
              "      <th>BsmtHalfBath</th>\n",
              "      <th>FullBath</th>\n",
              "      <th>HalfBath</th>\n",
              "      <th>BedroomAbvGr</th>\n",
              "      <th>KitchenAbvGr</th>\n",
              "      <th>TotRmsAbvGrd</th>\n",
              "      <th>Fireplaces</th>\n",
              "      <th>GarageCars</th>\n",
              "      <th>GarageArea</th>\n",
              "      <th>WoodDeckSF</th>\n",
              "      <th>OpenPorchSF</th>\n",
              "      <th>EnclosedPorch</th>\n",
              "      <th>3SsnPorch</th>\n",
              "      <th>ScreenPorch</th>\n",
              "      <th>PoolArea</th>\n",
              "      <th>MiscVal</th>\n",
              "      <th>MoSold</th>\n",
              "      <th>YrSold</th>\n",
              "      <th>SalePrice</th>\n",
              "    </tr>\n",
              "  </thead>\n",
              "  <tbody>\n",
              "    <tr>\n",
              "      <th>0</th>\n",
              "      <td>60</td>\n",
              "      <td>8450</td>\n",
              "      <td>7</td>\n",
              "      <td>5</td>\n",
              "      <td>2003</td>\n",
              "      <td>2003</td>\n",
              "      <td>706</td>\n",
              "      <td>0</td>\n",
              "      <td>150</td>\n",
              "      <td>856</td>\n",
              "      <td>856</td>\n",
              "      <td>854</td>\n",
              "      <td>0</td>\n",
              "      <td>1710</td>\n",
              "      <td>1</td>\n",
              "      <td>0</td>\n",
              "      <td>2</td>\n",
              "      <td>1</td>\n",
              "      <td>3</td>\n",
              "      <td>1</td>\n",
              "      <td>8</td>\n",
              "      <td>0</td>\n",
              "      <td>2</td>\n",
              "      <td>548</td>\n",
              "      <td>0</td>\n",
              "      <td>61</td>\n",
              "      <td>0</td>\n",
              "      <td>0</td>\n",
              "      <td>0</td>\n",
              "      <td>0</td>\n",
              "      <td>0</td>\n",
              "      <td>2</td>\n",
              "      <td>2008</td>\n",
              "      <td>208500</td>\n",
              "    </tr>\n",
              "    <tr>\n",
              "      <th>1</th>\n",
              "      <td>20</td>\n",
              "      <td>9600</td>\n",
              "      <td>6</td>\n",
              "      <td>8</td>\n",
              "      <td>1976</td>\n",
              "      <td>1976</td>\n",
              "      <td>978</td>\n",
              "      <td>0</td>\n",
              "      <td>284</td>\n",
              "      <td>1262</td>\n",
              "      <td>1262</td>\n",
              "      <td>0</td>\n",
              "      <td>0</td>\n",
              "      <td>1262</td>\n",
              "      <td>0</td>\n",
              "      <td>1</td>\n",
              "      <td>2</td>\n",
              "      <td>0</td>\n",
              "      <td>3</td>\n",
              "      <td>1</td>\n",
              "      <td>6</td>\n",
              "      <td>1</td>\n",
              "      <td>2</td>\n",
              "      <td>460</td>\n",
              "      <td>298</td>\n",
              "      <td>0</td>\n",
              "      <td>0</td>\n",
              "      <td>0</td>\n",
              "      <td>0</td>\n",
              "      <td>0</td>\n",
              "      <td>0</td>\n",
              "      <td>5</td>\n",
              "      <td>2007</td>\n",
              "      <td>181500</td>\n",
              "    </tr>\n",
              "    <tr>\n",
              "      <th>2</th>\n",
              "      <td>60</td>\n",
              "      <td>11250</td>\n",
              "      <td>7</td>\n",
              "      <td>5</td>\n",
              "      <td>2001</td>\n",
              "      <td>2002</td>\n",
              "      <td>486</td>\n",
              "      <td>0</td>\n",
              "      <td>434</td>\n",
              "      <td>920</td>\n",
              "      <td>920</td>\n",
              "      <td>866</td>\n",
              "      <td>0</td>\n",
              "      <td>1786</td>\n",
              "      <td>1</td>\n",
              "      <td>0</td>\n",
              "      <td>2</td>\n",
              "      <td>1</td>\n",
              "      <td>3</td>\n",
              "      <td>1</td>\n",
              "      <td>6</td>\n",
              "      <td>1</td>\n",
              "      <td>2</td>\n",
              "      <td>608</td>\n",
              "      <td>0</td>\n",
              "      <td>42</td>\n",
              "      <td>0</td>\n",
              "      <td>0</td>\n",
              "      <td>0</td>\n",
              "      <td>0</td>\n",
              "      <td>0</td>\n",
              "      <td>9</td>\n",
              "      <td>2008</td>\n",
              "      <td>223500</td>\n",
              "    </tr>\n",
              "    <tr>\n",
              "      <th>3</th>\n",
              "      <td>70</td>\n",
              "      <td>9550</td>\n",
              "      <td>7</td>\n",
              "      <td>5</td>\n",
              "      <td>1915</td>\n",
              "      <td>1970</td>\n",
              "      <td>216</td>\n",
              "      <td>0</td>\n",
              "      <td>540</td>\n",
              "      <td>756</td>\n",
              "      <td>961</td>\n",
              "      <td>756</td>\n",
              "      <td>0</td>\n",
              "      <td>1717</td>\n",
              "      <td>1</td>\n",
              "      <td>0</td>\n",
              "      <td>1</td>\n",
              "      <td>0</td>\n",
              "      <td>3</td>\n",
              "      <td>1</td>\n",
              "      <td>7</td>\n",
              "      <td>1</td>\n",
              "      <td>3</td>\n",
              "      <td>642</td>\n",
              "      <td>0</td>\n",
              "      <td>35</td>\n",
              "      <td>272</td>\n",
              "      <td>0</td>\n",
              "      <td>0</td>\n",
              "      <td>0</td>\n",
              "      <td>0</td>\n",
              "      <td>2</td>\n",
              "      <td>2006</td>\n",
              "      <td>140000</td>\n",
              "    </tr>\n",
              "    <tr>\n",
              "      <th>4</th>\n",
              "      <td>60</td>\n",
              "      <td>14260</td>\n",
              "      <td>8</td>\n",
              "      <td>5</td>\n",
              "      <td>2000</td>\n",
              "      <td>2000</td>\n",
              "      <td>655</td>\n",
              "      <td>0</td>\n",
              "      <td>490</td>\n",
              "      <td>1145</td>\n",
              "      <td>1145</td>\n",
              "      <td>1053</td>\n",
              "      <td>0</td>\n",
              "      <td>2198</td>\n",
              "      <td>1</td>\n",
              "      <td>0</td>\n",
              "      <td>2</td>\n",
              "      <td>1</td>\n",
              "      <td>4</td>\n",
              "      <td>1</td>\n",
              "      <td>9</td>\n",
              "      <td>1</td>\n",
              "      <td>3</td>\n",
              "      <td>836</td>\n",
              "      <td>192</td>\n",
              "      <td>84</td>\n",
              "      <td>0</td>\n",
              "      <td>0</td>\n",
              "      <td>0</td>\n",
              "      <td>0</td>\n",
              "      <td>0</td>\n",
              "      <td>12</td>\n",
              "      <td>2008</td>\n",
              "      <td>250000</td>\n",
              "    </tr>\n",
              "  </tbody>\n",
              "</table>\n",
              "</div>"
            ],
            "text/plain": [
              "   MSSubClass  LotArea  OverallQual  ...  MoSold  YrSold  SalePrice\n",
              "0          60     8450            7  ...       2    2008     208500\n",
              "1          20     9600            6  ...       5    2007     181500\n",
              "2          60    11250            7  ...       9    2008     223500\n",
              "3          70     9550            7  ...       2    2006     140000\n",
              "4          60    14260            8  ...      12    2008     250000\n",
              "\n",
              "[5 rows x 34 columns]"
            ]
          },
          "metadata": {
            "tags": []
          },
          "execution_count": 24
        }
      ]
    },
    {
      "cell_type": "markdown",
      "metadata": {
        "id": "Yswhe3K3BF5P",
        "colab_type": "text"
      },
      "source": [
        "Exatamente da mesma maneira, vou dividir os dados entre teste-treino, construir o modelo e executar o método `fit(X_train, y_train)`."
      ]
    },
    {
      "cell_type": "code",
      "metadata": {
        "id": "cZu3f10PAgqK",
        "colab_type": "code",
        "outputId": "1acfc35c-8f1c-4670-c3bb-afc0e5dc91b5",
        "colab": {
          "base_uri": "https://localhost:8080/",
          "height": 34
        }
      },
      "source": [
        "# determinar X e y... mas atenção com 1-feature (reshape)\n",
        "X = df2.drop('SalePrice', axis=1)\n",
        "y = df2['SalePrice']\n",
        "\n",
        "# dividir o dataset entre treino e teste\n",
        "X_train, X_test, y_train, y_test = train_test_split(X, y)\n",
        "\n",
        "# criar e treinar um modelo de Regressão Linear\n",
        "rlm_model = LinearRegression()\n",
        "rlm_model.fit(X_train, y_train)"
      ],
      "execution_count": 25,
      "outputs": [
        {
          "output_type": "execute_result",
          "data": {
            "text/plain": [
              "LinearRegression(copy_X=True, fit_intercept=True, n_jobs=None, normalize=False)"
            ]
          },
          "metadata": {
            "tags": []
          },
          "execution_count": 25
        }
      ]
    },
    {
      "cell_type": "markdown",
      "metadata": {
        "id": "gS71v1rvBEaL",
        "colab_type": "text"
      },
      "source": [
        "Dê uma paradinha agora e compare com o exemplo da Regressão Linear Simples. Qual a diferença? \n",
        "\n",
        "Quando tentamos passar uma única *feature*, era passada uma estrutura de apenas uma dimensão, o que fazia o `scikit-learn` a dar um erro. No entanto, quando usamos mais de uma *feature*, já temos objetos de duas dimensões sem a necessidade de redimensionar. Veja os `prints` abaixo para ver as dimensões de cada variável nossa e comparar com o exemplo anterior."
      ]
    },
    {
      "cell_type": "code",
      "metadata": {
        "id": "8n6_P-R3BZsN",
        "colab_type": "code",
        "outputId": "481ef2b8-336d-49b7-97d6-e9cbd0cf622f",
        "colab": {
          "base_uri": "https://localhost:8080/",
          "height": 70
        }
      },
      "source": [
        "print(\"df:\\t\\t\",df2.shape)\n",
        "\n",
        "print(\"X:\\t\\t\",X.shape)\n",
        "\n",
        "print(\"y:\\t\\t\", y.shape)"
      ],
      "execution_count": 26,
      "outputs": [
        {
          "output_type": "stream",
          "text": [
            "df:\t\t (1460, 34)\n",
            "X:\t\t (1460, 33)\n",
            "y:\t\t (1460,)\n"
          ],
          "name": "stdout"
        }
      ]
    },
    {
      "cell_type": "markdown",
      "metadata": {
        "id": "LFrZzMI_BbUo",
        "colab_type": "text"
      },
      "source": [
        "Se na Regressão Linear Simples tínhamos apenas um coeficiente e um intercepto, agora temps um coeficiente para cada variável. Para obtermos os **coeficientes de regressão** e o **intercept**, podemos acessar os atributos do modelo diretamente da variável `ml_model`.\n"
      ]
    },
    {
      "cell_type": "code",
      "metadata": {
        "id": "yzW9i2l4BhDT",
        "colab_type": "code",
        "outputId": "088f1b20-73ea-4d24-f2ac-537458884514",
        "colab": {
          "base_uri": "https://localhost:8080/",
          "height": 194
        }
      },
      "source": [
        "# imprimir os coeficientes\n",
        "print(\"Coeficiente:\\t\", rlm_model.coef_)\n",
        "print(\"Intercepto:\\t\", rlm_model.intercept_)"
      ],
      "execution_count": 27,
      "outputs": [
        {
          "output_type": "stream",
          "text": [
            "Coeficiente:\t [-1.66324928e+02  1.48896477e-01  1.84058490e+04  5.25797623e+03\n",
            "  3.69302533e+02  1.31720996e+02  1.13176436e+01 -5.39480592e+00\n",
            "  3.03935354e-01  6.22677305e+00  1.67505565e+01  1.51784371e+01\n",
            "  4.17902891e+00  3.61080226e+01  9.18812614e+03  3.94630464e+03\n",
            "  3.90529196e+03 -2.81368712e+03 -9.17418762e+03 -1.25277194e+04\n",
            "  4.70342257e+03  3.60946564e+03  1.34001061e+04 -7.46413892e+00\n",
            "  3.35690377e+01 -1.13729130e+01  9.62648057e+00  2.83215926e+01\n",
            "  5.05045837e+01 -3.37576147e+01 -2.28986985e+00  2.08528623e+02\n",
            " -7.80598911e+02]\n",
            "Intercepto:\t 506652.40999023034\n"
          ],
          "name": "stdout"
        }
      ]
    },
    {
      "cell_type": "markdown",
      "metadata": {
        "id": "BlklJ5rKBikV",
        "colab_type": "text"
      },
      "source": [
        "Vamos testar o desempenho do modelo em cima do nosso conjunto de testes. Para isso, vou colocar a variável `X_test` como argumento do `ml_model.predict()`, salvar as previsões e verificar o desempenho em cima das métricas já apresentadas."
      ]
    },
    {
      "cell_type": "code",
      "metadata": {
        "id": "ukXkkQNnB0F2",
        "colab_type": "code",
        "outputId": "fa85e2ab-9dca-4b1f-daff-38683ea85926",
        "colab": {
          "base_uri": "https://localhost:8080/",
          "height": 70
        }
      },
      "source": [
        "# previsões em cima do dataset de teste\n",
        "y_pred = rlm_model.predict(X_test)\n",
        "\n",
        "# verificar desempenho do modelo\n",
        "print(\"R2 Score:\\t\", r2_score(y_test, y_pred))\n",
        "print(\"MAE:\\t\\t\", mean_absolute_error(y_test, y_pred))\n",
        "print(\"MSE:\\t\\t\", mean_squared_error(y_test, y_pred))"
      ],
      "execution_count": 28,
      "outputs": [
        {
          "output_type": "stream",
          "text": [
            "R2 Score:\t 0.8344143489098635\n",
            "MAE:\t\t 20376.25918169057\n",
            "MSE:\t\t 961541117.8458364\n"
          ],
          "name": "stdout"
        }
      ]
    },
    {
      "cell_type": "markdown",
      "metadata": {
        "id": "AwI01617B9Yh",
        "colab_type": "text"
      },
      "source": [
        "Veja como todas as métricas avaliadas tiveram uma melhora significativa. Uma vez que o modelo tinha à disposição mais *features* para treinar, conseguiu se tornar mais preciso também."
      ]
    }
  ]
}